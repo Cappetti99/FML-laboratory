{
 "cells": [
  {
   "cell_type": "code",
   "execution_count": 2,
   "metadata": {},
   "outputs": [
    {
     "name": "stdout",
     "output_type": "stream",
     "text": [
      "1 GPU(s) disponibile/i.\n"
     ]
    },
    {
     "name": "stderr",
     "output_type": "stream",
     "text": [
      "WARNING: All log messages before absl::InitializeLog() is called are written to STDERR\n",
      "I0000 00:00:1734771028.688330    4666 cuda_executor.cc:1015] successful NUMA node read from SysFS had negative value (-1), but there must be at least one NUMA node, so returning NUMA node zero. See more at https://github.com/torvalds/linux/blob/v6.0/Documentation/ABI/testing/sysfs-bus-pci#L344-L355\n",
      "I0000 00:00:1734771028.689643    4666 cuda_executor.cc:1015] successful NUMA node read from SysFS had negative value (-1), but there must be at least one NUMA node, so returning NUMA node zero. See more at https://github.com/torvalds/linux/blob/v6.0/Documentation/ABI/testing/sysfs-bus-pci#L344-L355\n",
      "I0000 00:00:1734771028.689950    4666 cuda_executor.cc:1015] successful NUMA node read from SysFS had negative value (-1), but there must be at least one NUMA node, so returning NUMA node zero. See more at https://github.com/torvalds/linux/blob/v6.0/Documentation/ABI/testing/sysfs-bus-pci#L344-L355\n",
      "I0000 00:00:1734771028.961413    4666 cuda_executor.cc:1015] successful NUMA node read from SysFS had negative value (-1), but there must be at least one NUMA node, so returning NUMA node zero. See more at https://github.com/torvalds/linux/blob/v6.0/Documentation/ABI/testing/sysfs-bus-pci#L344-L355\n",
      "I0000 00:00:1734771028.961714    4666 cuda_executor.cc:1015] successful NUMA node read from SysFS had negative value (-1), but there must be at least one NUMA node, so returning NUMA node zero. See more at https://github.com/torvalds/linux/blob/v6.0/Documentation/ABI/testing/sysfs-bus-pci#L344-L355\n",
      "I0000 00:00:1734771028.961872    4666 cuda_executor.cc:1015] successful NUMA node read from SysFS had negative value (-1), but there must be at least one NUMA node, so returning NUMA node zero. See more at https://github.com/torvalds/linux/blob/v6.0/Documentation/ABI/testing/sysfs-bus-pci#L344-L355\n",
      "I0000 00:00:1734771029.053760    4666 cuda_executor.cc:1015] successful NUMA node read from SysFS had negative value (-1), but there must be at least one NUMA node, so returning NUMA node zero. See more at https://github.com/torvalds/linux/blob/v6.0/Documentation/ABI/testing/sysfs-bus-pci#L344-L355\n",
      "I0000 00:00:1734771029.053980    4666 cuda_executor.cc:1015] successful NUMA node read from SysFS had negative value (-1), but there must be at least one NUMA node, so returning NUMA node zero. See more at https://github.com/torvalds/linux/blob/v6.0/Documentation/ABI/testing/sysfs-bus-pci#L344-L355\n",
      "I0000 00:00:1734771029.054131    4666 cuda_executor.cc:1015] successful NUMA node read from SysFS had negative value (-1), but there must be at least one NUMA node, so returning NUMA node zero. See more at https://github.com/torvalds/linux/blob/v6.0/Documentation/ABI/testing/sysfs-bus-pci#L344-L355\n",
      "2024-12-21 09:50:29.054232: I tensorflow/core/common_runtime/gpu/gpu_device.cc:2021] Created device /job:localhost/replica:0/task:0/device:GPU:0 with 5501 MB memory:  -> device: 0, name: NVIDIA GeForce GTX 1060, pci bus id: 0000:01:00.0, compute capability: 6.1\n"
     ]
    },
    {
     "name": "stdout",
     "output_type": "stream",
     "text": [
      "Forma di X_train_dct: (60000, 56, 56, 1)\n",
      "Forma di X_test_dct: (10000, 56, 56, 1)\n"
     ]
    }
   ],
   "source": [
    "\n",
    "import tensorflow as tf\n",
    "import numpy as np\n",
    "from tensorflow.keras import Sequential\n",
    "from tensorflow.keras.layers import Conv2D, MaxPooling2D, Flatten, Dense, Dropout, Reshape, Input,Layer\n",
    "from scipy.fftpack import dct\n",
    "import torch\n",
    "# Configurazione per la GPU\n",
    "\n",
    "torch.cuda.empty_cache()\n",
    "\n",
    "gpus = tf.config.experimental.list_physical_devices('GPU')\n",
    "if gpus:\n",
    "    try:\n",
    "        # Limita la memoria GPU allocata (opzionale)\n",
    "        for gpu in gpus:\n",
    "            tf.config.experimental.set_memory_growth(gpu, True)  # Permette allocazione dinamica della memoria\n",
    "        print(f\"{len(gpus)} GPU(s) disponibile/i.\")\n",
    "    except RuntimeError as e:\n",
    "        print(e)\n",
    "else:\n",
    "    print(\"Nessuna GPU disponibile, verrà usata la CPU.\")\n",
    "\n",
    "# Carica il dataset\n",
    "(X_train, y_train), (X_test, y_test) = tf.keras.datasets.fashion_mnist.load_data()\n",
    "\n",
    "def apply_dct(data):\n",
    "    # Esegui la DCT bidimensionale sull'immagine\n",
    "    # La `type=2` rappresenta la DCT-II, che è la più comune\n",
    "    return dct(dct(data, axis=0, norm='ortho'), axis=1, norm='ortho')\n",
    "\n",
    "size=(56,56)\n",
    "\n",
    "def resize_images(data, target_size):\n",
    "    # Usa TensorFlow per ridimensionare ogni immagine\n",
    "    data_resized = tf.image.resize(data[..., tf.newaxis], target_size)\n",
    "    return data_resized.numpy()\n",
    "\n",
    "X_train_resized = resize_images(X_train,size)\n",
    "X_test_resized = resize_images(X_test,size)\n",
    "\n",
    "X_train_dct = np.array([apply_dct(img) for img in X_train_resized])  # Applica la DCT alle immagini di training\n",
    "X_test_dct = np.array([apply_dct(img) for img in X_test_resized])  # Applica la DCT alle immagini di test\n",
    "\n",
    "\n",
    "print(\"Forma di X_train_dct:\", X_train_dct.shape)\n",
    "print(\"Forma di X_test_dct:\", X_test_dct.shape)"
   ]
  },
  {
   "cell_type": "code",
   "execution_count": 3,
   "metadata": {},
   "outputs": [
    {
     "name": "stdout",
     "output_type": "stream",
     "text": [
      "Filtro 1:\n",
      "[[ 1.35162802  0.4900861  -0.05840587]\n",
      " [ 0.1693693  -0.09265262 -0.28820608]\n",
      " [ 0.04832287  0.04881288 -0.65821079]]\n",
      "\n",
      "Filtro 2:\n",
      "[[ 1.77540741e+00 -3.78384647e-02 -2.75523366e-01]\n",
      " [-1.20971187e-01 -1.15269443e-01 -1.98748486e-01]\n",
      " [ 4.34242978e-01 -1.03485530e-02  1.14867409e-03]]\n",
      "\n",
      "Filtro 3:\n",
      "[[ 1.09655658  0.49297854  0.13344712]\n",
      " [ 0.16359954  0.31844681  0.34712393]\n",
      " [-0.28877196 -0.4846438   0.11716763]]\n",
      "\n",
      "Filtro 4:\n",
      "[[ 0.79646056  0.00214237 -0.30878082]\n",
      " [-0.42779868 -0.15589683  0.30076332]\n",
      " [ 0.25965632 -0.05260594 -0.3934303 ]]\n",
      "\n",
      "Filtro 5:\n",
      "[[ 1.6172815  -0.05238026  0.39756448]\n",
      " [ 0.15157538  0.33073817 -0.10620109]\n",
      " [ 0.20640357 -0.63675495 -0.15849097]]\n",
      "\n",
      "Filtro 6:\n",
      "[[ 1.41840023 -0.12378593 -0.31766594]\n",
      " [ 0.38147116  0.04089965  0.06101318]\n",
      " [ 0.39954264  0.34690863 -0.28432669]]\n",
      "\n",
      "Filtro 7:\n",
      "[[ 1.03957659  0.40219142  0.144539  ]\n",
      " [-0.04778256 -0.19362542 -0.34063228]\n",
      " [-0.41033196 -0.30520992 -0.0306859 ]]\n",
      "\n",
      "Filtro 8:\n",
      "[[ 1.67063158  0.29258043  0.05364908]\n",
      " [ 0.86894504 -0.14308473 -0.03762284]\n",
      " [-0.20359341 -0.30976042  0.20242059]]\n",
      "\n",
      "Filtro 9:\n",
      "[[ 1.86393259 -0.28215025  0.4645444 ]\n",
      " [ 0.42607791  0.06691955 -0.32934959]\n",
      " [ 0.18263106 -0.20949042 -0.46064343]]\n",
      "\n",
      "Filtro 10:\n",
      "[[ 1.88442139  0.10652097  0.08614268]\n",
      " [ 0.25771008 -0.02776    -0.11264941]\n",
      " [ 0.04667596 -0.12234799 -0.20122705]]\n",
      "\n",
      "Filtro 11:\n",
      "[[ 1.87158559 -0.44089187  0.32652265]\n",
      " [ 0.3358671   0.12250545 -0.02914714]\n",
      " [-0.25522155 -0.17352054  0.18753672]]\n",
      "\n",
      "Filtro 12:\n",
      "[[ 2.07372586  0.12269179 -0.47447311]\n",
      " [-0.35209099  0.49994064 -0.19979083]\n",
      " [ 0.18328009  0.46946677  0.12958682]]\n",
      "\n",
      "Filtro 13:\n",
      "[[ 1.46851675  0.06246993  0.15226895]\n",
      " [-0.1854945  -0.18041402 -0.33344823]\n",
      " [ 0.73585695 -0.066092    0.03154391]]\n",
      "\n",
      "Filtro 14:\n",
      "[[ 1.46078875  0.05316987 -0.21149868]\n",
      " [-0.30722951 -0.00433135 -0.04091584]\n",
      " [ 0.23855746 -0.30679602 -0.39457098]]\n",
      "\n",
      "Filtro 15:\n",
      "[[ 1.85743437 -0.09948591 -0.29711361]\n",
      " [-0.02734436  0.28153804 -0.35620219]\n",
      " [-0.53510096 -0.24433993 -0.25405544]]\n",
      "\n",
      "Filtro 16:\n",
      "[[ 1.20522781  0.11371612 -0.14862745]\n",
      " [-0.07818647 -0.01238949 -0.13925918]\n",
      " [-0.75805693 -0.11454985 -0.44470575]]\n",
      "\n",
      "Filtro 17:\n",
      "[[ 1.64655832  0.30318762  0.02420028]\n",
      " [ 0.10702134  0.0434077  -0.58884473]\n",
      " [ 0.09194306  0.03249475  0.44850007]]\n",
      "\n",
      "Filtro 18:\n",
      "[[ 1.9419755  -0.01320389  0.27506707]\n",
      " [ 0.32347741  0.19121665 -0.45403865]\n",
      " [-0.14910619  0.06161388 -0.35427145]]\n",
      "\n",
      "Filtro 19:\n",
      "[[ 1.14518572  0.02821818 -0.19938072]\n",
      " [-0.13046363 -0.01096939 -0.30481493]\n",
      " [-0.44608381 -0.09569083  0.21956514]]\n",
      "\n",
      "Filtro 20:\n",
      "[[ 1.34670781 -0.02226425  0.12852038]\n",
      " [ 0.17447199 -0.46716334 -0.00921425]\n",
      " [-0.53870778 -0.30867274  0.36359194]]\n",
      "\n",
      "Filtro 21:\n",
      "[[ 1.63548267 -0.44662312 -0.13360964]\n",
      " [-0.09518252 -0.17738898  0.21493167]\n",
      " [-0.00895392 -0.16672688 -0.03449647]]\n",
      "\n",
      "Filtro 22:\n",
      "[[ 1.68898493  0.28860611 -0.48247464]\n",
      " [ 0.24526931  0.09333073  0.07031144]\n",
      " [-0.25590679  0.33757742 -0.01249081]]\n",
      "\n",
      "Filtro 23:\n",
      "[[ 1.67073402 -0.24425861 -0.04066167]\n",
      " [-0.15380006 -0.08350729 -0.12959508]\n",
      " [-0.28012024 -0.24458762 -0.12986249]]\n",
      "\n",
      "Filtro 24:\n",
      "[[ 1.72401787  0.30617665  0.55490272]\n",
      " [-0.36551311  0.48067012 -0.14475664]\n",
      " [-0.14039107  0.01217741 -0.30616438]]\n",
      "\n",
      "Filtro 25:\n",
      "[[ 1.76080473 -0.04921695 -0.19516499]\n",
      " [ 0.01623436 -0.03888266  0.08645987]\n",
      " [ 0.26302886  0.43644969  0.07412488]]\n",
      "\n",
      "Filtro 26:\n",
      "[[ 1.30571718 -0.27443956 -0.348228  ]\n",
      " [-0.24807427  0.38662002 -0.32578254]\n",
      " [-0.1609866   0.08641738  0.23273992]]\n",
      "\n",
      "Filtro 27:\n",
      "[[ 1.28260268  0.4542318   0.16196008]\n",
      " [-0.00658893 -0.44349179 -0.12610253]\n",
      " [ 0.1211347  -0.01871165  0.13932604]]\n",
      "\n",
      "Filtro 28:\n",
      "[[ 1.12196335 -0.00496957  0.03556027]\n",
      " [ 0.42624757  0.19474758  0.36357231]\n",
      " [-0.21207849  0.25641753  0.54187182]]\n",
      "\n",
      "Filtro 29:\n",
      "[[ 1.18118376  0.04437796 -0.42095262]\n",
      " [-0.09437379  0.69751564  0.3452993 ]\n",
      " [ 0.52519129  0.05032697 -0.12785531]]\n",
      "\n",
      "Filtro 30:\n",
      "[[ 1.84509719  0.20238498 -0.12071478]\n",
      " [-0.24893633  0.29437879 -0.10039379]\n",
      " [ 0.34566236 -0.29413513  0.02552079]]\n",
      "\n",
      "Filtro 31:\n",
      "[[ 1.66459767 -0.28075856 -0.0959262 ]\n",
      " [-0.1510737  -0.36195143  0.34840324]\n",
      " [-0.10155571 -0.23529847  0.49211823]]\n",
      "\n",
      "Filtro 32:\n",
      "[[ 1.2463592   0.22400702 -0.10193764]\n",
      " [-0.06123317 -0.22249739  0.05274022]\n",
      " [-0.41267599  0.27884197  0.38902447]]\n",
      "\n"
     ]
    }
   ],
   "source": [
    "filtri = np.random.rand(32, 3, 3)\n",
    "\n",
    "filtri_dct = np.array([apply_dct(img) for img in filtri])  # Applica la DCT alle immagini di training\n",
    "\n",
    "\n",
    "# Stampa i filtri generati\n",
    "for i, filtro in enumerate(filtri_dct):\n",
    "    print(f\"Filtro {i+1}:\\n{filtro}\\n\")"
   ]
  },
  {
   "cell_type": "code",
   "execution_count": 4,
   "metadata": {},
   "outputs": [
    {
     "name": "stdout",
     "output_type": "stream",
     "text": [
      "Forma di X_train_dct: (60000, 56, 56, 1)\n",
      "Forma di X_test_dct: (10000, 56, 56, 1)\n"
     ]
    }
   ],
   "source": [
    "#rimuovi tutte le colonne apparte prime 3 in tutte le immagini di training e test\n",
    "#X_train_dct = X_train_dct[:, :, :3]\n",
    "#X_test_dct = X_test_dct[:, :, :3]\n",
    "\n",
    "\n",
    "\n",
    "#printa le shape\n",
    "\n",
    "print(\"Forma di X_train_dct:\", X_train_dct.shape)\n",
    "print(\"Forma di X_test_dct:\", X_test_dct.shape)\n"
   ]
  },
  {
   "cell_type": "code",
   "execution_count": 5,
   "metadata": {},
   "outputs": [],
   "source": [
    "class IDCTLayer(Layer):\n",
    "    def __init__(self, **kwargs):\n",
    "        super(IDCTLayer, self).__init__(**kwargs)\n",
    "\n",
    "    def call(self, inputs):\n",
    "        def idct_2d(tensor):\n",
    "            x = tf.signal.idct(tensor, type=2, norm='ortho', axis=-1)\n",
    "            x = tf.transpose(x, perm=[0, 1, 3, 2])\n",
    "            x = tf.signal.idct(x, type=2, norm='ortho', axis=-1)\n",
    "            x = tf.transpose(x, perm=[0, 1, 3, 2])  # Ritorna alla forma originale\n",
    "            return x\n",
    "\n",
    "        # Applica la IDCT batch-wise e canale per canale\n",
    "        return idct_2d(inputs)"
   ]
  },
  {
   "cell_type": "code",
   "execution_count": 6,
   "metadata": {},
   "outputs": [],
   "source": [
    "model = Sequential([\n",
    "    Input(shape=(56,56)),  \n",
    "    Flatten(),             \n",
    "    Dense(228, activation='relu'),\n",
    "    Dense(576, activation='relu'),\n",
    "    Dense(1152, activation='relu'),\n",
    "    Reshape((3, 3, 128)),\n",
    "    IDCTLayer(),\n",
    "    Flatten(),\n",
    "    Dense(128, activation='relu'),\n",
    "    Dense(10, activation='softmax')\n",
    "])"
   ]
  },
  {
   "cell_type": "code",
   "execution_count": 7,
   "metadata": {},
   "outputs": [
    {
     "ename": "KeyboardInterrupt",
     "evalue": "",
     "output_type": "error",
     "traceback": [
      "\u001b[0;31m---------------------------------------------------------------------------\u001b[0m",
      "\u001b[0;31mKeyboardInterrupt\u001b[0m                         Traceback (most recent call last)",
      "Cell \u001b[0;32mIn[7], line 7\u001b[0m\n\u001b[1;32m      2\u001b[0m model\u001b[38;5;241m.\u001b[39mcompile(optimizer\u001b[38;5;241m=\u001b[39m\u001b[38;5;124m'\u001b[39m\u001b[38;5;124madam\u001b[39m\u001b[38;5;124m'\u001b[39m,\n\u001b[1;32m      3\u001b[0m               loss\u001b[38;5;241m=\u001b[39m\u001b[38;5;124m'\u001b[39m\u001b[38;5;124msparse_categorical_crossentropy\u001b[39m\u001b[38;5;124m'\u001b[39m,\n\u001b[1;32m      4\u001b[0m               metrics\u001b[38;5;241m=\u001b[39m[\u001b[38;5;124m'\u001b[39m\u001b[38;5;124maccuracy\u001b[39m\u001b[38;5;124m'\u001b[39m])\n\u001b[1;32m      6\u001b[0m \u001b[38;5;66;03m# Addestra il modello\u001b[39;00m\n\u001b[0;32m----> 7\u001b[0m history \u001b[38;5;241m=\u001b[39m model\u001b[38;5;241m.\u001b[39mfit(X_train_dct, y_train, epochs\u001b[38;5;241m=\u001b[39m\u001b[38;5;241m3\u001b[39m, batch_size\u001b[38;5;241m=\u001b[39m\u001b[38;5;241m64\u001b[39m, validation_split\u001b[38;5;241m=\u001b[39m\u001b[38;5;241m0.2\u001b[39m)\n\u001b[1;32m      9\u001b[0m \u001b[38;5;66;03m# Valuta il modello56\u001b[39;00m\n\u001b[1;32m     10\u001b[0m test_loss, test_acc \u001b[38;5;241m=\u001b[39m model\u001b[38;5;241m.\u001b[39mevaluate(X_test_dct, y_test, verbose\u001b[38;5;241m=\u001b[39m\u001b[38;5;241m2\u001b[39m)\n",
      "File \u001b[0;32m~/miniconda3/envs/FML/lib/python3.12/site-packages/keras/src/utils/traceback_utils.py:117\u001b[0m, in \u001b[0;36mfilter_traceback.<locals>.error_handler\u001b[0;34m(*args, **kwargs)\u001b[0m\n\u001b[1;32m    115\u001b[0m filtered_tb \u001b[38;5;241m=\u001b[39m \u001b[38;5;28;01mNone\u001b[39;00m\n\u001b[1;32m    116\u001b[0m \u001b[38;5;28;01mtry\u001b[39;00m:\n\u001b[0;32m--> 117\u001b[0m     \u001b[38;5;28;01mreturn\u001b[39;00m fn(\u001b[38;5;241m*\u001b[39margs, \u001b[38;5;241m*\u001b[39m\u001b[38;5;241m*\u001b[39mkwargs)\n\u001b[1;32m    118\u001b[0m \u001b[38;5;28;01mexcept\u001b[39;00m \u001b[38;5;167;01mException\u001b[39;00m \u001b[38;5;28;01mas\u001b[39;00m e:\n\u001b[1;32m    119\u001b[0m     filtered_tb \u001b[38;5;241m=\u001b[39m _process_traceback_frames(e\u001b[38;5;241m.\u001b[39m__traceback__)\n",
      "File \u001b[0;32m~/miniconda3/envs/FML/lib/python3.12/site-packages/keras/src/backend/tensorflow/trainer.py:329\u001b[0m, in \u001b[0;36mTensorFlowTrainer.fit\u001b[0;34m(self, x, y, batch_size, epochs, verbose, callbacks, validation_split, validation_data, shuffle, class_weight, sample_weight, initial_epoch, steps_per_epoch, validation_steps, validation_batch_size, validation_freq)\u001b[0m\n\u001b[1;32m    322\u001b[0m     (\n\u001b[1;32m    323\u001b[0m         val_x,\n\u001b[1;32m    324\u001b[0m         val_y,\n\u001b[1;32m    325\u001b[0m         val_sample_weight,\n\u001b[1;32m    326\u001b[0m     ) \u001b[38;5;241m=\u001b[39m data_adapter_utils\u001b[38;5;241m.\u001b[39munpack_x_y_sample_weight(validation_data)\n\u001b[1;32m    328\u001b[0m \u001b[38;5;66;03m# Create an iterator that yields batches for one epoch.\u001b[39;00m\n\u001b[0;32m--> 329\u001b[0m epoch_iterator \u001b[38;5;241m=\u001b[39m TFEpochIterator(\n\u001b[1;32m    330\u001b[0m     x\u001b[38;5;241m=\u001b[39mx,\n\u001b[1;32m    331\u001b[0m     y\u001b[38;5;241m=\u001b[39my,\n\u001b[1;32m    332\u001b[0m     sample_weight\u001b[38;5;241m=\u001b[39msample_weight,\n\u001b[1;32m    333\u001b[0m     batch_size\u001b[38;5;241m=\u001b[39mbatch_size,\n\u001b[1;32m    334\u001b[0m     steps_per_epoch\u001b[38;5;241m=\u001b[39msteps_per_epoch,\n\u001b[1;32m    335\u001b[0m     shuffle\u001b[38;5;241m=\u001b[39mshuffle,\n\u001b[1;32m    336\u001b[0m     class_weight\u001b[38;5;241m=\u001b[39mclass_weight,\n\u001b[1;32m    337\u001b[0m     distribute_strategy\u001b[38;5;241m=\u001b[39m\u001b[38;5;28mself\u001b[39m\u001b[38;5;241m.\u001b[39mdistribute_strategy,\n\u001b[1;32m    338\u001b[0m     steps_per_execution\u001b[38;5;241m=\u001b[39m\u001b[38;5;28mself\u001b[39m\u001b[38;5;241m.\u001b[39msteps_per_execution,\n\u001b[1;32m    339\u001b[0m )\n\u001b[1;32m    341\u001b[0m \u001b[38;5;28mself\u001b[39m\u001b[38;5;241m.\u001b[39m_maybe_symbolic_build(iterator\u001b[38;5;241m=\u001b[39mepoch_iterator)\n\u001b[1;32m    342\u001b[0m epoch_iterator\u001b[38;5;241m.\u001b[39mreset()\n",
      "File \u001b[0;32m~/miniconda3/envs/FML/lib/python3.12/site-packages/keras/src/backend/tensorflow/trainer.py:715\u001b[0m, in \u001b[0;36mTFEpochIterator.__init__\u001b[0;34m(self, distribute_strategy, *args, **kwargs)\u001b[0m\n\u001b[1;32m    713\u001b[0m \u001b[38;5;28msuper\u001b[39m()\u001b[38;5;241m.\u001b[39m\u001b[38;5;21m__init__\u001b[39m(\u001b[38;5;241m*\u001b[39margs, \u001b[38;5;241m*\u001b[39m\u001b[38;5;241m*\u001b[39mkwargs)\n\u001b[1;32m    714\u001b[0m \u001b[38;5;28mself\u001b[39m\u001b[38;5;241m.\u001b[39m_distribute_strategy \u001b[38;5;241m=\u001b[39m distribute_strategy\n\u001b[0;32m--> 715\u001b[0m dataset \u001b[38;5;241m=\u001b[39m \u001b[38;5;28mself\u001b[39m\u001b[38;5;241m.\u001b[39mdata_adapter\u001b[38;5;241m.\u001b[39mget_tf_dataset()\n\u001b[1;32m    716\u001b[0m \u001b[38;5;28;01mif\u001b[39;00m \u001b[38;5;129;01mnot\u001b[39;00m \u001b[38;5;28misinstance\u001b[39m(dataset, tf\u001b[38;5;241m.\u001b[39mdistribute\u001b[38;5;241m.\u001b[39mDistributedDataset):\n\u001b[1;32m    717\u001b[0m     dataset \u001b[38;5;241m=\u001b[39m \u001b[38;5;28mself\u001b[39m\u001b[38;5;241m.\u001b[39m_distribute_strategy\u001b[38;5;241m.\u001b[39mexperimental_distribute_dataset(\n\u001b[1;32m    718\u001b[0m         dataset\n\u001b[1;32m    719\u001b[0m     )\n",
      "File \u001b[0;32m~/miniconda3/envs/FML/lib/python3.12/site-packages/keras/src/trainers/data_adapters/array_data_adapter.py:235\u001b[0m, in \u001b[0;36mArrayDataAdapter.get_tf_dataset\u001b[0;34m(self)\u001b[0m\n\u001b[1;32m    232\u001b[0m \u001b[38;5;28;01mif\u001b[39;00m shuffle \u001b[38;5;241m==\u001b[39m \u001b[38;5;124m\"\u001b[39m\u001b[38;5;124mbatch\u001b[39m\u001b[38;5;124m\"\u001b[39m:\n\u001b[1;32m    233\u001b[0m     indices_dataset \u001b[38;5;241m=\u001b[39m indices_dataset\u001b[38;5;241m.\u001b[39mmap(tf\u001b[38;5;241m.\u001b[39mrandom\u001b[38;5;241m.\u001b[39mshuffle)\n\u001b[0;32m--> 235\u001b[0m dataset \u001b[38;5;241m=\u001b[39m slice_inputs(indices_dataset, \u001b[38;5;28mself\u001b[39m\u001b[38;5;241m.\u001b[39m_inputs)\n\u001b[1;32m    237\u001b[0m options \u001b[38;5;241m=\u001b[39m tf\u001b[38;5;241m.\u001b[39mdata\u001b[38;5;241m.\u001b[39mOptions()\n\u001b[1;32m    238\u001b[0m options\u001b[38;5;241m.\u001b[39mexperimental_distribute\u001b[38;5;241m.\u001b[39mauto_shard_policy \u001b[38;5;241m=\u001b[39m (\n\u001b[1;32m    239\u001b[0m     tf\u001b[38;5;241m.\u001b[39mdata\u001b[38;5;241m.\u001b[39mexperimental\u001b[38;5;241m.\u001b[39mAutoShardPolicy\u001b[38;5;241m.\u001b[39mDATA\n\u001b[1;32m    240\u001b[0m )\n",
      "File \u001b[0;32m~/miniconda3/envs/FML/lib/python3.12/site-packages/keras/src/trainers/data_adapters/array_data_adapter.py:197\u001b[0m, in \u001b[0;36mArrayDataAdapter.get_tf_dataset.<locals>.slice_inputs\u001b[0;34m(indices_dataset, inputs)\u001b[0m\n\u001b[1;32m    191\u001b[0m inputs \u001b[38;5;241m=\u001b[39m array_slicing\u001b[38;5;241m.\u001b[39mconvert_to_sliceable(\n\u001b[1;32m    192\u001b[0m     \u001b[38;5;28mself\u001b[39m\u001b[38;5;241m.\u001b[39m_inputs, target_backend\u001b[38;5;241m=\u001b[39m\u001b[38;5;124m\"\u001b[39m\u001b[38;5;124mtensorflow\u001b[39m\u001b[38;5;124m\"\u001b[39m\n\u001b[1;32m    193\u001b[0m )\n\u001b[1;32m    194\u001b[0m inputs \u001b[38;5;241m=\u001b[39m tree\u001b[38;5;241m.\u001b[39mlists_to_tuples(inputs)\n\u001b[1;32m    196\u001b[0m dataset \u001b[38;5;241m=\u001b[39m tf\u001b[38;5;241m.\u001b[39mdata\u001b[38;5;241m.\u001b[39mDataset\u001b[38;5;241m.\u001b[39mzip(\n\u001b[0;32m--> 197\u001b[0m     (indices_dataset, tf\u001b[38;5;241m.\u001b[39mdata\u001b[38;5;241m.\u001b[39mDataset\u001b[38;5;241m.\u001b[39mfrom_tensors(inputs)\u001b[38;5;241m.\u001b[39mrepeat())\n\u001b[1;32m    198\u001b[0m )\n\u001b[1;32m    200\u001b[0m \u001b[38;5;28;01mdef\u001b[39;00m \u001b[38;5;21mgrab_batch\u001b[39m(i, data):\n\u001b[1;32m    201\u001b[0m     \u001b[38;5;28;01mdef\u001b[39;00m \u001b[38;5;21mgrab_one\u001b[39m(x):\n",
      "File \u001b[0;32m~/miniconda3/envs/FML/lib/python3.12/site-packages/tensorflow/python/data/ops/dataset_ops.py:741\u001b[0m, in \u001b[0;36mDatasetV2.from_tensors\u001b[0;34m(tensors, name)\u001b[0m\n\u001b[1;32m    737\u001b[0m \u001b[38;5;66;03m# Loaded lazily due to a circular dependency (dataset_ops ->\u001b[39;00m\n\u001b[1;32m    738\u001b[0m \u001b[38;5;66;03m# from_tensors_op -> dataset_ops).\u001b[39;00m\n\u001b[1;32m    739\u001b[0m \u001b[38;5;66;03m# pylint: disable=g-import-not-at-top,protected-access\u001b[39;00m\n\u001b[1;32m    740\u001b[0m \u001b[38;5;28;01mfrom\u001b[39;00m \u001b[38;5;21;01mtensorflow\u001b[39;00m\u001b[38;5;21;01m.\u001b[39;00m\u001b[38;5;21;01mpython\u001b[39;00m\u001b[38;5;21;01m.\u001b[39;00m\u001b[38;5;21;01mdata\u001b[39;00m\u001b[38;5;21;01m.\u001b[39;00m\u001b[38;5;21;01mops\u001b[39;00m \u001b[38;5;28;01mimport\u001b[39;00m from_tensors_op\n\u001b[0;32m--> 741\u001b[0m \u001b[38;5;28;01mreturn\u001b[39;00m from_tensors_op\u001b[38;5;241m.\u001b[39m_from_tensors(tensors, name)\n",
      "File \u001b[0;32m~/miniconda3/envs/FML/lib/python3.12/site-packages/tensorflow/python/data/ops/from_tensors_op.py:23\u001b[0m, in \u001b[0;36m_from_tensors\u001b[0;34m(tensors, name)\u001b[0m\n\u001b[1;32m     22\u001b[0m \u001b[38;5;28;01mdef\u001b[39;00m \u001b[38;5;21m_from_tensors\u001b[39m(tensors, name):  \u001b[38;5;66;03m# pylint: disable=unused-private-name\u001b[39;00m\n\u001b[0;32m---> 23\u001b[0m   \u001b[38;5;28;01mreturn\u001b[39;00m _TensorDataset(tensors, name)\n",
      "File \u001b[0;32m~/miniconda3/envs/FML/lib/python3.12/site-packages/tensorflow/python/data/ops/from_tensors_op.py:31\u001b[0m, in \u001b[0;36m_TensorDataset.__init__\u001b[0;34m(self, element, name)\u001b[0m\n\u001b[1;32m     29\u001b[0m \u001b[38;5;28;01mdef\u001b[39;00m \u001b[38;5;21m__init__\u001b[39m(\u001b[38;5;28mself\u001b[39m, element, name\u001b[38;5;241m=\u001b[39m\u001b[38;5;28;01mNone\u001b[39;00m):\n\u001b[1;32m     30\u001b[0m \u001b[38;5;250m  \u001b[39m\u001b[38;5;124;03m\"\"\"See `tf.data.Dataset.from_tensors` for details.\"\"\"\u001b[39;00m\n\u001b[0;32m---> 31\u001b[0m   element \u001b[38;5;241m=\u001b[39m structure\u001b[38;5;241m.\u001b[39mnormalize_element(element)\n\u001b[1;32m     32\u001b[0m   \u001b[38;5;28mself\u001b[39m\u001b[38;5;241m.\u001b[39m_structure \u001b[38;5;241m=\u001b[39m structure\u001b[38;5;241m.\u001b[39mtype_spec_from_value(element)\n\u001b[1;32m     33\u001b[0m   \u001b[38;5;28mself\u001b[39m\u001b[38;5;241m.\u001b[39m_tensors \u001b[38;5;241m=\u001b[39m structure\u001b[38;5;241m.\u001b[39mto_tensor_list(\u001b[38;5;28mself\u001b[39m\u001b[38;5;241m.\u001b[39m_structure, element)\n",
      "File \u001b[0;32m~/miniconda3/envs/FML/lib/python3.12/site-packages/tensorflow/python/data/util/structure.py:134\u001b[0m, in \u001b[0;36mnormalize_element\u001b[0;34m(element, element_signature)\u001b[0m\n\u001b[1;32m    131\u001b[0m       \u001b[38;5;28;01melse\u001b[39;00m:\n\u001b[1;32m    132\u001b[0m         dtype \u001b[38;5;241m=\u001b[39m \u001b[38;5;28mgetattr\u001b[39m(spec, \u001b[38;5;124m\"\u001b[39m\u001b[38;5;124mdtype\u001b[39m\u001b[38;5;124m\"\u001b[39m, \u001b[38;5;28;01mNone\u001b[39;00m)\n\u001b[1;32m    133\u001b[0m         normalized_components\u001b[38;5;241m.\u001b[39mappend(\n\u001b[0;32m--> 134\u001b[0m             ops\u001b[38;5;241m.\u001b[39mconvert_to_tensor(t, name\u001b[38;5;241m=\u001b[39m\u001b[38;5;124m\"\u001b[39m\u001b[38;5;124mcomponent_\u001b[39m\u001b[38;5;132;01m%d\u001b[39;00m\u001b[38;5;124m\"\u001b[39m \u001b[38;5;241m%\u001b[39m i, dtype\u001b[38;5;241m=\u001b[39mdtype))\n\u001b[1;32m    135\u001b[0m \u001b[38;5;28;01mreturn\u001b[39;00m nest\u001b[38;5;241m.\u001b[39mpack_sequence_as(pack_as, normalized_components)\n",
      "File \u001b[0;32m~/miniconda3/envs/FML/lib/python3.12/site-packages/tensorflow/python/profiler/trace.py:183\u001b[0m, in \u001b[0;36mtrace_wrapper.<locals>.inner_wrapper.<locals>.wrapped\u001b[0;34m(*args, **kwargs)\u001b[0m\n\u001b[1;32m    181\u001b[0m   \u001b[38;5;28;01mwith\u001b[39;00m Trace(trace_name, \u001b[38;5;241m*\u001b[39m\u001b[38;5;241m*\u001b[39mtrace_kwargs):\n\u001b[1;32m    182\u001b[0m     \u001b[38;5;28;01mreturn\u001b[39;00m func(\u001b[38;5;241m*\u001b[39margs, \u001b[38;5;241m*\u001b[39m\u001b[38;5;241m*\u001b[39mkwargs)\n\u001b[0;32m--> 183\u001b[0m \u001b[38;5;28;01mreturn\u001b[39;00m func(\u001b[38;5;241m*\u001b[39margs, \u001b[38;5;241m*\u001b[39m\u001b[38;5;241m*\u001b[39mkwargs)\n",
      "File \u001b[0;32m~/miniconda3/envs/FML/lib/python3.12/site-packages/tensorflow/python/framework/ops.py:713\u001b[0m, in \u001b[0;36mconvert_to_tensor\u001b[0;34m(value, dtype, name, as_ref, preferred_dtype, dtype_hint, ctx, accepted_result_types)\u001b[0m\n\u001b[1;32m    711\u001b[0m \u001b[38;5;66;03m# TODO(b/142518781): Fix all call-sites and remove redundant arg\u001b[39;00m\n\u001b[1;32m    712\u001b[0m preferred_dtype \u001b[38;5;241m=\u001b[39m preferred_dtype \u001b[38;5;129;01mor\u001b[39;00m dtype_hint\n\u001b[0;32m--> 713\u001b[0m \u001b[38;5;28;01mreturn\u001b[39;00m tensor_conversion_registry\u001b[38;5;241m.\u001b[39mconvert(\n\u001b[1;32m    714\u001b[0m     value, dtype, name, as_ref, preferred_dtype, accepted_result_types\n\u001b[1;32m    715\u001b[0m )\n",
      "File \u001b[0;32m~/miniconda3/envs/FML/lib/python3.12/site-packages/tensorflow/python/framework/tensor_conversion_registry.py:234\u001b[0m, in \u001b[0;36mconvert\u001b[0;34m(value, dtype, name, as_ref, preferred_dtype, accepted_result_types)\u001b[0m\n\u001b[1;32m    225\u001b[0m       \u001b[38;5;28;01mraise\u001b[39;00m \u001b[38;5;167;01mRuntimeError\u001b[39;00m(\n\u001b[1;32m    226\u001b[0m           _add_error_prefix(\n\u001b[1;32m    227\u001b[0m               \u001b[38;5;124mf\u001b[39m\u001b[38;5;124m\"\u001b[39m\u001b[38;5;124mConversion function \u001b[39m\u001b[38;5;132;01m{\u001b[39;00mconversion_func\u001b[38;5;132;01m!r}\u001b[39;00m\u001b[38;5;124m for type \u001b[39m\u001b[38;5;124m\"\u001b[39m\n\u001b[0;32m   (...)\u001b[0m\n\u001b[1;32m    230\u001b[0m               \u001b[38;5;124mf\u001b[39m\u001b[38;5;124m\"\u001b[39m\u001b[38;5;124mactual = \u001b[39m\u001b[38;5;132;01m{\u001b[39;00mret\u001b[38;5;241m.\u001b[39mdtype\u001b[38;5;241m.\u001b[39mbase_dtype\u001b[38;5;241m.\u001b[39mname\u001b[38;5;132;01m}\u001b[39;00m\u001b[38;5;124m\"\u001b[39m,\n\u001b[1;32m    231\u001b[0m               name\u001b[38;5;241m=\u001b[39mname))\n\u001b[1;32m    233\u001b[0m \u001b[38;5;28;01mif\u001b[39;00m ret \u001b[38;5;129;01mis\u001b[39;00m \u001b[38;5;28;01mNone\u001b[39;00m:\n\u001b[0;32m--> 234\u001b[0m   ret \u001b[38;5;241m=\u001b[39m conversion_func(value, dtype\u001b[38;5;241m=\u001b[39mdtype, name\u001b[38;5;241m=\u001b[39mname, as_ref\u001b[38;5;241m=\u001b[39mas_ref)\n\u001b[1;32m    236\u001b[0m \u001b[38;5;28;01mif\u001b[39;00m ret \u001b[38;5;129;01mis\u001b[39;00m \u001b[38;5;28mNotImplemented\u001b[39m:\n\u001b[1;32m    237\u001b[0m   \u001b[38;5;28;01mcontinue\u001b[39;00m\n",
      "File \u001b[0;32m~/miniconda3/envs/FML/lib/python3.12/site-packages/tensorflow/python/framework/constant_tensor_conversion.py:29\u001b[0m, in \u001b[0;36m_constant_tensor_conversion_function\u001b[0;34m(v, dtype, name, as_ref)\u001b[0m\n\u001b[1;32m     26\u001b[0m \u001b[38;5;28;01mfrom\u001b[39;00m \u001b[38;5;21;01mtensorflow\u001b[39;00m\u001b[38;5;21;01m.\u001b[39;00m\u001b[38;5;21;01mpython\u001b[39;00m\u001b[38;5;21;01m.\u001b[39;00m\u001b[38;5;21;01mframework\u001b[39;00m \u001b[38;5;28;01mimport\u001b[39;00m constant_op  \u001b[38;5;66;03m# pylint: disable=g-import-not-at-top\u001b[39;00m\n\u001b[1;32m     28\u001b[0m _ \u001b[38;5;241m=\u001b[39m as_ref\n\u001b[0;32m---> 29\u001b[0m \u001b[38;5;28;01mreturn\u001b[39;00m constant_op\u001b[38;5;241m.\u001b[39mconstant(v, dtype\u001b[38;5;241m=\u001b[39mdtype, name\u001b[38;5;241m=\u001b[39mname)\n",
      "File \u001b[0;32m~/miniconda3/envs/FML/lib/python3.12/site-packages/tensorflow/python/ops/weak_tensor_ops.py:142\u001b[0m, in \u001b[0;36mweak_tensor_binary_op_wrapper.<locals>.wrapper\u001b[0;34m(*args, **kwargs)\u001b[0m\n\u001b[1;32m    140\u001b[0m \u001b[38;5;28;01mdef\u001b[39;00m \u001b[38;5;21mwrapper\u001b[39m(\u001b[38;5;241m*\u001b[39margs, \u001b[38;5;241m*\u001b[39m\u001b[38;5;241m*\u001b[39mkwargs):\n\u001b[1;32m    141\u001b[0m   \u001b[38;5;28;01mif\u001b[39;00m \u001b[38;5;129;01mnot\u001b[39;00m ops\u001b[38;5;241m.\u001b[39mis_auto_dtype_conversion_enabled():\n\u001b[0;32m--> 142\u001b[0m     \u001b[38;5;28;01mreturn\u001b[39;00m op(\u001b[38;5;241m*\u001b[39margs, \u001b[38;5;241m*\u001b[39m\u001b[38;5;241m*\u001b[39mkwargs)\n\u001b[1;32m    143\u001b[0m   bound_arguments \u001b[38;5;241m=\u001b[39m signature\u001b[38;5;241m.\u001b[39mbind(\u001b[38;5;241m*\u001b[39margs, \u001b[38;5;241m*\u001b[39m\u001b[38;5;241m*\u001b[39mkwargs)\n\u001b[1;32m    144\u001b[0m   bound_arguments\u001b[38;5;241m.\u001b[39mapply_defaults()\n",
      "File \u001b[0;32m~/miniconda3/envs/FML/lib/python3.12/site-packages/tensorflow/python/framework/constant_op.py:276\u001b[0m, in \u001b[0;36mconstant\u001b[0;34m(value, dtype, shape, name)\u001b[0m\n\u001b[1;32m    177\u001b[0m \u001b[38;5;129m@tf_export\u001b[39m(\u001b[38;5;124m\"\u001b[39m\u001b[38;5;124mconstant\u001b[39m\u001b[38;5;124m\"\u001b[39m, v1\u001b[38;5;241m=\u001b[39m[])\n\u001b[1;32m    178\u001b[0m \u001b[38;5;28;01mdef\u001b[39;00m \u001b[38;5;21mconstant\u001b[39m(\n\u001b[1;32m    179\u001b[0m     value, dtype\u001b[38;5;241m=\u001b[39m\u001b[38;5;28;01mNone\u001b[39;00m, shape\u001b[38;5;241m=\u001b[39m\u001b[38;5;28;01mNone\u001b[39;00m, name\u001b[38;5;241m=\u001b[39m\u001b[38;5;124m\"\u001b[39m\u001b[38;5;124mConst\u001b[39m\u001b[38;5;124m\"\u001b[39m\n\u001b[1;32m    180\u001b[0m ) \u001b[38;5;241m-\u001b[39m\u001b[38;5;241m>\u001b[39m Union[ops\u001b[38;5;241m.\u001b[39mOperation, ops\u001b[38;5;241m.\u001b[39m_EagerTensorBase]:\n\u001b[1;32m    181\u001b[0m \u001b[38;5;250m  \u001b[39m\u001b[38;5;124;03m\"\"\"Creates a constant tensor from a tensor-like object.\u001b[39;00m\n\u001b[1;32m    182\u001b[0m \n\u001b[1;32m    183\u001b[0m \u001b[38;5;124;03m  Note: All eager `tf.Tensor` values are immutable (in contrast to\u001b[39;00m\n\u001b[0;32m   (...)\u001b[0m\n\u001b[1;32m    274\u001b[0m \u001b[38;5;124;03m    ValueError: if called on a symbolic tensor.\u001b[39;00m\n\u001b[1;32m    275\u001b[0m \u001b[38;5;124;03m  \"\"\"\u001b[39;00m\n\u001b[0;32m--> 276\u001b[0m   \u001b[38;5;28;01mreturn\u001b[39;00m _constant_impl(value, dtype, shape, name, verify_shape\u001b[38;5;241m=\u001b[39m\u001b[38;5;28;01mFalse\u001b[39;00m,\n\u001b[1;32m    277\u001b[0m                         allow_broadcast\u001b[38;5;241m=\u001b[39m\u001b[38;5;28;01mTrue\u001b[39;00m)\n",
      "File \u001b[0;32m~/miniconda3/envs/FML/lib/python3.12/site-packages/tensorflow/python/framework/constant_op.py:289\u001b[0m, in \u001b[0;36m_constant_impl\u001b[0;34m(value, dtype, shape, name, verify_shape, allow_broadcast)\u001b[0m\n\u001b[1;32m    287\u001b[0m     \u001b[38;5;28;01mwith\u001b[39;00m trace\u001b[38;5;241m.\u001b[39mTrace(\u001b[38;5;124m\"\u001b[39m\u001b[38;5;124mtf.constant\u001b[39m\u001b[38;5;124m\"\u001b[39m):\n\u001b[1;32m    288\u001b[0m       \u001b[38;5;28;01mreturn\u001b[39;00m _constant_eager_impl(ctx, value, dtype, shape, verify_shape)\n\u001b[0;32m--> 289\u001b[0m   \u001b[38;5;28;01mreturn\u001b[39;00m _constant_eager_impl(ctx, value, dtype, shape, verify_shape)\n\u001b[1;32m    291\u001b[0m const_tensor \u001b[38;5;241m=\u001b[39m ops\u001b[38;5;241m.\u001b[39m_create_graph_constant(  \u001b[38;5;66;03m# pylint: disable=protected-access\u001b[39;00m\n\u001b[1;32m    292\u001b[0m     value, dtype, shape, name, verify_shape, allow_broadcast\n\u001b[1;32m    293\u001b[0m )\n\u001b[1;32m    294\u001b[0m \u001b[38;5;28;01mreturn\u001b[39;00m const_tensor\n",
      "File \u001b[0;32m~/miniconda3/envs/FML/lib/python3.12/site-packages/tensorflow/python/framework/constant_op.py:301\u001b[0m, in \u001b[0;36m_constant_eager_impl\u001b[0;34m(ctx, value, dtype, shape, verify_shape)\u001b[0m\n\u001b[1;32m    297\u001b[0m \u001b[38;5;28;01mdef\u001b[39;00m \u001b[38;5;21m_constant_eager_impl\u001b[39m(\n\u001b[1;32m    298\u001b[0m     ctx, value, dtype, shape, verify_shape\n\u001b[1;32m    299\u001b[0m ) \u001b[38;5;241m-\u001b[39m\u001b[38;5;241m>\u001b[39m ops\u001b[38;5;241m.\u001b[39m_EagerTensorBase:\n\u001b[1;32m    300\u001b[0m \u001b[38;5;250m  \u001b[39m\u001b[38;5;124;03m\"\"\"Creates a constant on the current device.\"\"\"\u001b[39;00m\n\u001b[0;32m--> 301\u001b[0m   t \u001b[38;5;241m=\u001b[39m convert_to_eager_tensor(value, ctx, dtype)\n\u001b[1;32m    302\u001b[0m   \u001b[38;5;28;01mif\u001b[39;00m shape \u001b[38;5;129;01mis\u001b[39;00m \u001b[38;5;28;01mNone\u001b[39;00m:\n\u001b[1;32m    303\u001b[0m     \u001b[38;5;28;01mreturn\u001b[39;00m t\n",
      "File \u001b[0;32m~/miniconda3/envs/FML/lib/python3.12/site-packages/tensorflow/python/framework/constant_op.py:96\u001b[0m, in \u001b[0;36mconvert_to_eager_tensor\u001b[0;34m(value, ctx, dtype)\u001b[0m\n\u001b[1;32m     76\u001b[0m \u001b[38;5;250m\u001b[39m\u001b[38;5;124;03m\"\"\"Converts the given `value` to an `EagerTensor`.\u001b[39;00m\n\u001b[1;32m     77\u001b[0m \n\u001b[1;32m     78\u001b[0m \u001b[38;5;124;03mNote that this function could return cached copies of created constants for\u001b[39;00m\n\u001b[0;32m   (...)\u001b[0m\n\u001b[1;32m     90\u001b[0m \u001b[38;5;124;03m  TypeError: if `dtype` is not compatible with the type of t.\u001b[39;00m\n\u001b[1;32m     91\u001b[0m \u001b[38;5;124;03m\"\"\"\u001b[39;00m\n\u001b[1;32m     92\u001b[0m \u001b[38;5;28;01mif\u001b[39;00m \u001b[38;5;28misinstance\u001b[39m(value, np\u001b[38;5;241m.\u001b[39mndarray):\n\u001b[1;32m     93\u001b[0m   \u001b[38;5;66;03m# Make a copy explicitly because the EagerTensor might share the underlying\u001b[39;00m\n\u001b[1;32m     94\u001b[0m   \u001b[38;5;66;03m# memory with the input array. Without this copy, users will be able to\u001b[39;00m\n\u001b[1;32m     95\u001b[0m   \u001b[38;5;66;03m# modify the EagerTensor after its creation by changing the input array.\u001b[39;00m\n\u001b[0;32m---> 96\u001b[0m   value \u001b[38;5;241m=\u001b[39m value\u001b[38;5;241m.\u001b[39mcopy()\n\u001b[1;32m     97\u001b[0m \u001b[38;5;28;01mif\u001b[39;00m \u001b[38;5;28misinstance\u001b[39m(value, ops\u001b[38;5;241m.\u001b[39mEagerTensor):\n\u001b[1;32m     98\u001b[0m   \u001b[38;5;28;01mif\u001b[39;00m dtype \u001b[38;5;129;01mis\u001b[39;00m \u001b[38;5;129;01mnot\u001b[39;00m \u001b[38;5;28;01mNone\u001b[39;00m \u001b[38;5;129;01mand\u001b[39;00m value\u001b[38;5;241m.\u001b[39mdtype \u001b[38;5;241m!=\u001b[39m dtype:\n",
      "\u001b[0;31mKeyboardInterrupt\u001b[0m: "
     ]
    }
   ],
   "source": [
    "# Compila il modello\n",
    "model.compile(optimizer='adam',\n",
    "              loss='sparse_categorical_crossentropy',\n",
    "              metrics=['accuracy'])\n",
    "\n",
    "# Addestra il modello\n",
    "history = model.fit(X_train_dct, y_train, epochs=3, batch_size=64, validation_split=0.2)\n",
    "\n",
    "# Valuta il modello56\n",
    "test_loss, test_acc = model.evaluate(X_test_dct, y_test, verbose=2)\n",
    "print(f\"Test accuracy: {test_acc:.2f}\")\n"
   ]
  },
  {
   "cell_type": "code",
   "execution_count": null,
   "metadata": {},
   "outputs": [
    {
     "data": {
      "image/png": "[encoded data removed]",
      "text/plain": [
       "<Figure size 640x480 with 1 Axes>"
      ]
     },
     "metadata": {},
     "output_type": "display_data"
    }
   ],
   "source": [
    "import matplotlib.pyplot as plt\n",
    "\n",
    "# Grafico della loss\n",
    "plt.plot(history.history['loss'], label='Loss di Addestramento')\n",
    "plt.plot(history.history['val_loss'], label='Loss di Validazione')\n",
    "plt.xlabel('Epoche')\n",
    "plt.ylabel('Loss')\n",
    "plt.title('Andamento della Loss durante l\\'Addestramento')\n",
    "plt.legend()\n",
    "plt.grid(True)\n",
    "plt.show()"
   ]
  },
  {
   "cell_type": "code",
   "execution_count": null,
   "metadata": {},
   "outputs": [
    {
     "name": "stdout",
     "output_type": "stream",
     "text": [
      "1 GPU(s) disponibile/i.\n",
      "Epoch 1/3\n",
      "\u001b[1m750/750\u001b[0m \u001b[32m━━━━━━━━━━━━━━━━━━━━\u001b[0m\u001b[37m\u001b[0m \u001b[1m11s\u001b[0m 13ms/step - accuracy: 0.7891 - loss: 2.5390 - val_accuracy: 0.8694 - val_loss: 0.3489\n",
      "Epoch 2/3\n",
      "\u001b[1m750/750\u001b[0m \u001b[32m━━━━━━━━━━━━━━━━━━━━\u001b[0m\u001b[37m\u001b[0m \u001b[1m9s\u001b[0m 12ms/step - accuracy: 0.9118 - loss: 0.2420 - val_accuracy: 0.9056 - val_loss: 0.2836\n",
      "Epoch 3/3\n",
      "\u001b[1m750/750\u001b[0m \u001b[32m━━━━━━━━━━━━━━━━━━━━\u001b[0m\u001b[37m\u001b[0m \u001b[1m9s\u001b[0m 12ms/step - accuracy: 0.9408 - loss: 0.1660 - val_accuracy: 0.8943 - val_loss: 0.3130\n",
      "313/313 - 1s - 3ms/step - accuracy: 0.8904 - loss: 0.3279\n",
      "Test accuracy: 0.89\n"
     ]
    }
   ],
   "source": [
    "import tensorflow as tf\n",
    "from tensorflow.keras import Sequential\n",
    "from tensorflow.keras.layers import Conv2D, MaxPooling2D, Flatten, Dense, Dropout, Reshape\n",
    "\n",
    "# Configurazione per la GPU\n",
    "gpus = tf.config.experimental.list_physical_devices('GPU')\n",
    "if gpus:\n",
    "    try:\n",
    "        # Limita la memoria GPU allocata (opzionale)\n",
    "        for gpu in gpus:\n",
    "            tf.config.experimental.set_memory_growth(gpu, True)  # Permette allocazione dinamica della memoria\n",
    "        print(f\"{len(gpus)} GPU(s) disponibile/i.\")\n",
    "    except RuntimeError as e:\n",
    "        print(e)\n",
    "else:\n",
    "    print(\"Nessuna GPU disponibile, verrà usata la CPU.\")\n",
    "\n",
    "# Carica il dataset\n",
    "(X_train, y_train), (X_test, y_test) = tf.keras.datasets.fashion_mnist.load_data()\n",
    "size=(28,28)\n",
    "def resize_images(data, target_size):\n",
    "    # Usa TensorFlow per ridimensionare ogni immagine\n",
    "    data_resized = tf.image.resize(data[..., tf.newaxis], target_size)\n",
    "    return data_resized.numpy()\n",
    "\n",
    "X_train_resized = resize_images(X_train,size)\n",
    "X_test_resized = resize_images(X_test,size)\n",
    "\n",
    "# Crea il modello\n",
    "model = Sequential([\n",
    "    Conv2D(32, (3, 3), activation='relu', input_shape=(size[0],size[1], 1)),\n",
    "    Conv2D(64, (3, 3), activation='relu'),\n",
    "    Conv2D(128, (3, 3), activation='relu'),\n",
    "    Flatten(),\n",
    "    Dense(128, activation='relu'),\n",
    "    Dense(10, activation='softmax')\n",
    "])\n",
    "\n",
    "\n",
    "# Compila il modello\n",
    "model.compile(optimizer='adam',\n",
    "              loss='sparse_categorical_crossentropy',\n",
    "              metrics=['accuracy'])\n",
    "\n",
    "# Addestra il modello\n",
    "history = model.fit(X_train_resized, y_train, epochs=3, batch_size=64, validation_split=0.2)\n",
    "\n",
    "# Valuta il modello\n",
    "test_loss, test_acc = model.evaluate(X_test_resized, y_test, verbose=2)\n",
    "print(f\"Test accuracy: {test_acc:.2f}\")\n"
   ]
  },
  {
   "cell_type": "code",
   "execution_count": null,
   "metadata": {},
   "outputs": [
    {
     "data": {
      "image/png": "[encoded data removed]",
      "text/plain": [
       "<Figure size 640x480 with 1 Axes>"
      ]
     },
     "metadata": {},
     "output_type": "display_data"
    }
   ],
   "source": [
    "# Grafico della loss\n",
    "plt.plot(history.history['loss'], label='Loss di Addestramento')\n",
    "plt.plot(history.history['val_loss'], label='Loss di Validazione')\n",
    "plt.xlabel('Epoche')\n",
    "plt.ylabel('Loss')\n",
    "plt.title('Andamento della Loss durante l\\'Addestramento')\n",
    "plt.legend()\n",
    "plt.grid(True)\n",
    "plt.show()"
   ]
  },
  {
   "cell_type": "code",
   "execution_count": 47,
   "metadata": {},
   "outputs": [
    {
     "name": "stdout",
     "output_type": "stream",
     "text": [
      "Forma di X_train_dct: (60000, 28, 3)\n",
      "Forma di X_test_dct: (10000, 28, 3)\n",
      "Forma dei filtri1: (3, 3, 32)\n",
      "Forma di inputs: (None, 28, 3)\n",
      "Forma dei filtri: (3, 3, 32)\n",
      "Forma di ciao: (3, 28, 32)\n"
     ]
    },
    {
     "data": {
      "text/html": [
       "<pre style=\"white-space:pre;overflow-x:auto;line-height:normal;font-family:Menlo,'DejaVu Sans Mono',consolas,'Courier New',monospace\"><span style=\"font-weight: bold\">Model: \"sequential_39\"</span>\n",
       "</pre>\n"
      ],
      "text/plain": [
       "\u001b[1mModel: \"sequential_39\"\u001b[0m\n"
      ]
     },
     "metadata": {},
     "output_type": "display_data"
    },
    {
     "data": {
      "text/html": [
       "<pre style=\"white-space:pre;overflow-x:auto;line-height:normal;font-family:Menlo,'DejaVu Sans Mono',consolas,'Courier New',monospace\">┏━━━━━━━━━━━━━━━━━━━━━━━━━━━━━━━━━┳━━━━━━━━━━━━━━━━━━━━━━━━┳━━━━━━━━━━━━━━━┓\n",
       "┃<span style=\"font-weight: bold\"> Layer (type)                    </span>┃<span style=\"font-weight: bold\"> Output Shape           </span>┃<span style=\"font-weight: bold\">       Param # </span>┃\n",
       "┡━━━━━━━━━━━━━━━━━━━━━━━━━━━━━━━━━╇━━━━━━━━━━━━━━━━━━━━━━━━╇━━━━━━━━━━━━━━━┩\n",
       "│ custom_filter_layer_53          │ (<span style=\"color: #00af00; text-decoration-color: #00af00\">3</span>, <span style=\"color: #00af00; text-decoration-color: #00af00\">28</span>, <span style=\"color: #00af00; text-decoration-color: #00af00\">32</span>)            │           <span style=\"color: #00af00; text-decoration-color: #00af00\">288</span> │\n",
       "│ (<span style=\"color: #0087ff; text-decoration-color: #0087ff\">CustomFilterLayer</span>)             │                        │               │\n",
       "└─────────────────────────────────┴────────────────────────┴───────────────┘\n",
       "</pre>\n"
      ],
      "text/plain": [
       "┏━━━━━━━━━━━━━━━━━━━━━━━━━━━━━━━━━┳━━━━━━━━━━━━━━━━━━━━━━━━┳━━━━━━━━━━━━━━━┓\n",
       "┃\u001b[1m \u001b[0m\u001b[1mLayer (type)                   \u001b[0m\u001b[1m \u001b[0m┃\u001b[1m \u001b[0m\u001b[1mOutput Shape          \u001b[0m\u001b[1m \u001b[0m┃\u001b[1m \u001b[0m\u001b[1m      Param #\u001b[0m\u001b[1m \u001b[0m┃\n",
       "┡━━━━━━━━━━━━━━━━━━━━━━━━━━━━━━━━━╇━━━━━━━━━━━━━━━━━━━━━━━━╇━━━━━━━━━━━━━━━┩\n",
       "│ custom_filter_layer_53          │ (\u001b[38;5;34m3\u001b[0m, \u001b[38;5;34m28\u001b[0m, \u001b[38;5;34m32\u001b[0m)            │           \u001b[38;5;34m288\u001b[0m │\n",
       "│ (\u001b[38;5;33mCustomFilterLayer\u001b[0m)             │                        │               │\n",
       "└─────────────────────────────────┴────────────────────────┴───────────────┘\n"
      ]
     },
     "metadata": {},
     "output_type": "display_data"
    },
    {
     "data": {
      "text/html": [
       "<pre style=\"white-space:pre;overflow-x:auto;line-height:normal;font-family:Menlo,'DejaVu Sans Mono',consolas,'Courier New',monospace\"><span style=\"font-weight: bold\"> Total params: </span><span style=\"color: #00af00; text-decoration-color: #00af00\">288</span> (1.12 KB)\n",
       "</pre>\n"
      ],
      "text/plain": [
       "\u001b[1m Total params: \u001b[0m\u001b[38;5;34m288\u001b[0m (1.12 KB)\n"
      ]
     },
     "metadata": {},
     "output_type": "display_data"
    },
    {
     "data": {
      "text/html": [
       "<pre style=\"white-space:pre;overflow-x:auto;line-height:normal;font-family:Menlo,'DejaVu Sans Mono',consolas,'Courier New',monospace\"><span style=\"font-weight: bold\"> Trainable params: </span><span style=\"color: #00af00; text-decoration-color: #00af00\">288</span> (1.12 KB)\n",
       "</pre>\n"
      ],
      "text/plain": [
       "\u001b[1m Trainable params: \u001b[0m\u001b[38;5;34m288\u001b[0m (1.12 KB)\n"
      ]
     },
     "metadata": {},
     "output_type": "display_data"
    },
    {
     "data": {
      "text/html": [
       "<pre style=\"white-space:pre;overflow-x:auto;line-height:normal;font-family:Menlo,'DejaVu Sans Mono',consolas,'Courier New',monospace\"><span style=\"font-weight: bold\"> Non-trainable params: </span><span style=\"color: #00af00; text-decoration-color: #00af00\">0</span> (0.00 B)\n",
       "</pre>\n"
      ],
      "text/plain": [
       "\u001b[1m Non-trainable params: \u001b[0m\u001b[38;5;34m0\u001b[0m (0.00 B)\n"
      ]
     },
     "metadata": {},
     "output_type": "display_data"
    },
    {
     "name": "stdout",
     "output_type": "stream",
     "text": [
      "Epoch 1/3\n",
      "Forma di inputs: (32, 28, 3)\n",
      "Forma dei filtri: (3, 3, 32)\n"
     ]
    },
    {
     "ename": "ValueError",
     "evalue": "Exception encountered when calling CustomFilterLayer.call().\n\n\u001b[1mDimensions must be equal, but are 32 and 3 for '{{node sequential_39_1/custom_filter_layer_53_1/MatMul}} = BatchMatMulV2[T=DT_FLOAT, adj_x=false, adj_y=false, grad_x=false, grad_y=false](data, sequential_39_1/custom_filter_layer_53_1/MatMul/ReadVariableOp)' with input shapes: [32,28,3], [3,3,32].\u001b[0m\n\nArguments received by CustomFilterLayer.call():\n  • inputs=tf.Tensor(shape=(32, 28, 3), dtype=float32)",
     "output_type": "error",
     "traceback": [
      "\u001b[0;31m---------------------------------------------------------------------------\u001b[0m",
      "\u001b[0;31mValueError\u001b[0m                                Traceback (most recent call last)",
      "Cell \u001b[0;32mIn[47], line 67\u001b[0m\n\u001b[1;32m     62\u001b[0m model\u001b[38;5;241m.\u001b[39mcompile(optimizer\u001b[38;5;241m=\u001b[39m\u001b[38;5;124m'\u001b[39m\u001b[38;5;124madam\u001b[39m\u001b[38;5;124m'\u001b[39m,\n\u001b[1;32m     63\u001b[0m               loss\u001b[38;5;241m=\u001b[39m\u001b[38;5;124m'\u001b[39m\u001b[38;5;124msparse_categorical_crossentropy\u001b[39m\u001b[38;5;124m'\u001b[39m,\n\u001b[1;32m     64\u001b[0m               metrics\u001b[38;5;241m=\u001b[39m[\u001b[38;5;124m'\u001b[39m\u001b[38;5;124maccuracy\u001b[39m\u001b[38;5;124m'\u001b[39m])\n\u001b[1;32m     66\u001b[0m \u001b[38;5;66;03m# Addestra il modello\u001b[39;00m\n\u001b[0;32m---> 67\u001b[0m history \u001b[38;5;241m=\u001b[39m model\u001b[38;5;241m.\u001b[39mfit(X_train_dct, y_train, epochs\u001b[38;5;241m=\u001b[39m\u001b[38;5;241m3\u001b[39m, batch_size\u001b[38;5;241m=\u001b[39m\u001b[38;5;241m32\u001b[39m, validation_split\u001b[38;5;241m=\u001b[39m\u001b[38;5;241m0.2\u001b[39m)\n\u001b[1;32m     69\u001b[0m \u001b[38;5;66;03m# Valuta il modello\u001b[39;00m\n\u001b[1;32m     70\u001b[0m test_loss, test_acc \u001b[38;5;241m=\u001b[39m model\u001b[38;5;241m.\u001b[39mevaluate(X_test_dct, y_test, verbose\u001b[38;5;241m=\u001b[39m\u001b[38;5;241m2\u001b[39m)\n",
      "File \u001b[0;32m~/miniconda3/envs/FML/lib/python3.12/site-packages/keras/src/utils/traceback_utils.py:122\u001b[0m, in \u001b[0;36mfilter_traceback.<locals>.error_handler\u001b[0;34m(*args, **kwargs)\u001b[0m\n\u001b[1;32m    119\u001b[0m     filtered_tb \u001b[38;5;241m=\u001b[39m _process_traceback_frames(e\u001b[38;5;241m.\u001b[39m__traceback__)\n\u001b[1;32m    120\u001b[0m     \u001b[38;5;66;03m# To get the full stack trace, call:\u001b[39;00m\n\u001b[1;32m    121\u001b[0m     \u001b[38;5;66;03m# `keras.config.disable_traceback_filtering()`\u001b[39;00m\n\u001b[0;32m--> 122\u001b[0m     \u001b[38;5;28;01mraise\u001b[39;00m e\u001b[38;5;241m.\u001b[39mwith_traceback(filtered_tb) \u001b[38;5;28;01mfrom\u001b[39;00m \u001b[38;5;28;01mNone\u001b[39;00m\n\u001b[1;32m    123\u001b[0m \u001b[38;5;28;01mfinally\u001b[39;00m:\n\u001b[1;32m    124\u001b[0m     \u001b[38;5;28;01mdel\u001b[39;00m filtered_tb\n",
      "Cell \u001b[0;32mIn[47], line 18\u001b[0m, in \u001b[0;36mCustomFilterLayer.call\u001b[0;34m(self, inputs)\u001b[0m\n\u001b[1;32m     16\u001b[0m \u001b[38;5;28mprint\u001b[39m(\u001b[38;5;124m\"\u001b[39m\u001b[38;5;124mForma di inputs:\u001b[39m\u001b[38;5;124m\"\u001b[39m, inputs\u001b[38;5;241m.\u001b[39mshape)\n\u001b[1;32m     17\u001b[0m \u001b[38;5;28mprint\u001b[39m(\u001b[38;5;124m\"\u001b[39m\u001b[38;5;124mForma dei filtri:\u001b[39m\u001b[38;5;124m\"\u001b[39m, \u001b[38;5;28mself\u001b[39m\u001b[38;5;241m.\u001b[39mfilters\u001b[38;5;241m.\u001b[39mshape)\n\u001b[0;32m---> 18\u001b[0m ciao\u001b[38;5;241m=\u001b[39m tf\u001b[38;5;241m.\u001b[39mmatmul( inputs,\u001b[38;5;28mself\u001b[39m\u001b[38;5;241m.\u001b[39mfilters)\n\u001b[1;32m     19\u001b[0m \u001b[38;5;28mprint\u001b[39m(\u001b[38;5;124m\"\u001b[39m\u001b[38;5;124mForma di ciao:\u001b[39m\u001b[38;5;124m\"\u001b[39m, ciao\u001b[38;5;241m.\u001b[39mshape)\n\u001b[1;32m     20\u001b[0m \u001b[38;5;28;01mreturn\u001b[39;00m ciao\n",
      "\u001b[0;31mValueError\u001b[0m: Exception encountered when calling CustomFilterLayer.call().\n\n\u001b[1mDimensions must be equal, but are 32 and 3 for '{{node sequential_39_1/custom_filter_layer_53_1/MatMul}} = BatchMatMulV2[T=DT_FLOAT, adj_x=false, adj_y=false, grad_x=false, grad_y=false](data, sequential_39_1/custom_filter_layer_53_1/MatMul/ReadVariableOp)' with input shapes: [32,28,3], [3,3,32].\u001b[0m\n\nArguments received by CustomFilterLayer.call():\n  • inputs=tf.Tensor(shape=(32, 28, 3), dtype=float32)"
     ]
    }
   ],
   "source": [
    "from tensorflow.keras import Sequential\n",
    "from tensorflow.keras.layers import Input, Flatten, Dense, Reshape,Layer\n",
    "import tensorflow as tf\n",
    "import numpy as np\n",
    "\n",
    "class CustomFilterLayer(tf.keras.layers.Layer):\n",
    "    def __init__(self, filters, **kwargs):\n",
    "        super(CustomFilterLayer, self).__init__(**kwargs)\n",
    "        self.filters = self.add_weight(\n",
    "            shape=filters.shape,           # Usa la forma dei filtri forniti\n",
    "            initializer=tf.constant_initializer(filters),  # Inizializza con i tuoi filtri\n",
    "            trainable=True                 # Rende i filtri addestrabili\n",
    "        )\n",
    "    \n",
    "    def call(self, inputs):\n",
    "        print(\"Forma di inputs:\", inputs.shape)\n",
    "        print(\"Forma dei filtri:\", self.filters.shape)\n",
    "        ciao= tf.matmul( inputs,self.filters)\n",
    "        print(\"Forma di ciao:\", ciao.shape)\n",
    "        return ciao\n",
    "\n",
    "(X_train, y_train), (X_test, y_test) = tf.keras.datasets.fashion_mnist.load_data()\n",
    "X_train_dct = np.array([apply_dct(img) for img in X_train])  # Applica la DCT alle immagini di training\n",
    "X_test_dct = np.array([apply_dct(img) for img in X_test])  # Applica la DCT alle immagini di test\n",
    "X_train_dct = X_train_dct[:, :, :3]\n",
    "X_test_dct = X_test_dct[:, :, :3]\n",
    "\n",
    "#X_train_dct = np.expand_dims(X_train_dct, axis=-1)\n",
    "\n",
    "\n",
    "#printa le shape\n",
    "print(\"Forma di X_train_dct:\", X_train_dct.shape)\n",
    "print(\"Forma di X_test_dct:\", X_test_dct.shape)\n",
    "\n",
    "#genera i filtri in modo che abbiano 3 altezza,3 larghezza e 32 canali e in greyscale\n",
    "filtri1 = np.random.rand(3, 3,32)\n",
    "filtri_dct1 = np.array([apply_dct(img) for img in filtri1])  # Applica la DCT alle immagini di training\n",
    "\n",
    "filtri2 = np.random.rand(64, 3, 3)\n",
    "filtri_dct2 = np.array([apply_dct(img) for img in filtri2])  # Applica la DCT alle immagini di training\n",
    "\n",
    "filtri3 = np.random.rand(1,128, 3, 3)\n",
    "filtri_dct = np.array([apply_dct(img) for img in filtri3])  # Applica la DCT alle immagini di training\n",
    "\n",
    "# Stampa le forme dei filtri\n",
    "print(\"Forma dei filtri1:\", filtri1.shape)\n",
    "\n",
    "# Costruzione del modello\n",
    "model = Sequential([\n",
    "    Input(shape=(28, 3)),  # Input di dimensione 56x56\n",
    "    CustomFilterLayer(filters=filtri1),  # Primo layer personalizzato\n",
    "    #CustomFilterLayer(filters=filtri2),  # Primo layer personalizzato\n",
    "\n",
    "\n",
    "# Layer finale per la classificazione\n",
    "])\n",
    "\n",
    "# Sommario del modello\n",
    "model.summary()\n",
    "\n",
    "\n",
    "model.compile(optimizer='adam',\n",
    "              loss='sparse_categorical_crossentropy',\n",
    "              metrics=['accuracy'])\n",
    "\n",
    "# Addestra il modello\n",
    "history = model.fit(X_train_dct, y_train, epochs=3, batch_size=32, validation_split=0.2)\n",
    "\n",
    "# Valuta il modello\n",
    "test_loss, test_acc = model.evaluate(X_test_dct, y_test, verbose=2)\n",
    "print(f\"Test accuracy: {test_acc:.2f}\")"
   ]
  },
  {
   "cell_type": "code",
   "execution_count": 43,
   "metadata": {},
   "outputs": [
    {
     "name": "stdout",
     "output_type": "stream",
     "text": [
      "Matrice 3D A (dimensioni 2x3x4):\n",
      "[[[0.54191156 0.24761614 0.99081395 0.57582617]\n",
      "  [0.89639119 0.38215769 0.58650983 0.0062246 ]\n",
      "  [0.64502898 0.59711582 0.46861482 0.23241527]]\n",
      "\n",
      " [[0.74456989 0.23392199 0.5212829  0.0327434 ]\n",
      "  [0.47673436 0.25026192 0.04827552 0.15980057]\n",
      "  [0.32916242 0.08184919 0.53480181 0.07935704]]]\n",
      "\n",
      "Matrice 2D B (dimensioni 3x2):\n",
      "[[0.34666779 0.85650259]\n",
      " [0.16093226 0.89945225]\n",
      " [0.32948863 0.95559487]]\n",
      "\n",
      "Matrice 3D risultante C (dimensioni 2x2x4):\n",
      "[[[0.54465126 0.34408491 0.59227489 0.27720031]\n",
      "  [1.88679611 1.12641727 1.82397821 0.72089017]]\n",
      "\n",
      " [[0.44329561 0.14833681 0.36469219 0.06321539]\n",
      "  [1.38107176 0.5036681  1.00095554 0.24761097]]]\n"
     ]
    }
   ],
   "source": [
    "import numpy as np\n",
    "\n",
    "# Definisci una matrice 3D (A) di dimensioni (m, n, p)\n",
    "A = np.random.rand(2, 3, 4)  # Matrice 3D di dimensioni 2x3x4\n",
    "\n",
    "# Definisci una matrice 2D (B) di dimensioni (n, q)\n",
    "B = np.random.rand(3, 2)  # Matrice 2D di dimensioni 3x2\n",
    "\n",
    "# Inizializza la matrice risultante C di dimensioni (m, q, p)\n",
    "m, n, p = A.shape\n",
    "q = B.shape[1]\n",
    "C = np.zeros((m, q, p))\n",
    "\n",
    "# Moltiplicazione utilizzando np.matmul\n",
    "for k in range(p):  # Per ogni \"strato\" di A\n",
    "    C[:, :, k] = np.matmul(A[:, :, k], B)  # Prodotto matrice-matrice tra A[:, :, k] e B\n",
    "\n",
    "# Mostra il risultato\n",
    "print(\"Matrice 3D A (dimensioni 2x3x4):\")\n",
    "print(A)\n",
    "print(\"\\nMatrice 2D B (dimensioni 3x2):\")\n",
    "print(B)\n",
    "print(\"\\nMatrice 3D risultante C (dimensioni 2x2x4):\")\n",
    "print(C)"
   ]
  }
 ],
 "metadata": {
  "kernelspec": {
   "display_name": "FML",
   "language": "python",
   "name": "python3"
  },
  "language_info": {
   "codemirror_mode": {
    "name": "ipython",
    "version": 3
   },
   "file_extension": ".py",
   "mimetype": "text/x-python",
   "name": "python",
   "nbconvert_exporter": "python",
   "pygments_lexer": "ipython3",
   "version": "3.12.5"
  }
 },
 "nbformat": 4,
 "nbformat_minor": 2
}
