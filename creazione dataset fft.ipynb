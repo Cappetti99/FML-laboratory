{
 "cells": [
  {
   "cell_type": "code",
   "execution_count": 1,
   "metadata": {},
   "outputs": [
    {
     "name": "stdout",
     "output_type": "stream",
     "text": [
      "Downloading http://yann.lecun.com/exdb/mnist/train-images-idx3-ubyte.gz\n",
      "Failed to download (trying next):\n",
      "HTTP Error 404: Not Found\n",
      "\n",
      "Downloading https://ossci-datasets.s3.amazonaws.com/mnist/train-images-idx3-ubyte.gz\n",
      "Downloading https://ossci-datasets.s3.amazonaws.com/mnist/train-images-idx3-ubyte.gz to ./data/MNIST/raw/train-images-idx3-ubyte.gz\n"
     ]
    },
    {
     "name": "stderr",
     "output_type": "stream",
     "text": [
      "100%|██████████| 9.91M/9.91M [00:02<00:00, 3.36MB/s]\n"
     ]
    },
    {
     "name": "stdout",
     "output_type": "stream",
     "text": [
      "Extracting ./data/MNIST/raw/train-images-idx3-ubyte.gz to ./data/MNIST/raw\n",
      "\n",
      "Downloading http://yann.lecun.com/exdb/mnist/train-labels-idx1-ubyte.gz\n",
      "Failed to download (trying next):\n",
      "HTTP Error 404: Not Found\n",
      "\n",
      "Downloading https://ossci-datasets.s3.amazonaws.com/mnist/train-labels-idx1-ubyte.gz\n",
      "Downloading https://ossci-datasets.s3.amazonaws.com/mnist/train-labels-idx1-ubyte.gz to ./data/MNIST/raw/train-labels-idx1-ubyte.gz\n"
     ]
    },
    {
     "name": "stderr",
     "output_type": "stream",
     "text": [
      "100%|██████████| 28.9k/28.9k [00:00<00:00, 194kB/s]\n"
     ]
    },
    {
     "name": "stdout",
     "output_type": "stream",
     "text": [
      "Extracting ./data/MNIST/raw/train-labels-idx1-ubyte.gz to ./data/MNIST/raw\n",
      "\n",
      "Downloading http://yann.lecun.com/exdb/mnist/t10k-images-idx3-ubyte.gz\n",
      "Failed to download (trying next):\n",
      "HTTP Error 404: Not Found\n",
      "\n",
      "Downloading https://ossci-datasets.s3.amazonaws.com/mnist/t10k-images-idx3-ubyte.gz\n",
      "Downloading https://ossci-datasets.s3.amazonaws.com/mnist/t10k-images-idx3-ubyte.gz to ./data/MNIST/raw/t10k-images-idx3-ubyte.gz\n"
     ]
    },
    {
     "name": "stderr",
     "output_type": "stream",
     "text": [
      "100%|██████████| 1.65M/1.65M [00:02<00:00, 759kB/s] \n"
     ]
    },
    {
     "name": "stdout",
     "output_type": "stream",
     "text": [
      "Extracting ./data/MNIST/raw/t10k-images-idx3-ubyte.gz to ./data/MNIST/raw\n",
      "\n",
      "Downloading http://yann.lecun.com/exdb/mnist/t10k-labels-idx1-ubyte.gz\n",
      "Failed to download (trying next):\n",
      "HTTP Error 404: Not Found\n",
      "\n",
      "Downloading https://ossci-datasets.s3.amazonaws.com/mnist/t10k-labels-idx1-ubyte.gz\n",
      "Downloading https://ossci-datasets.s3.amazonaws.com/mnist/t10k-labels-idx1-ubyte.gz to ./data/MNIST/raw/t10k-labels-idx1-ubyte.gz\n"
     ]
    },
    {
     "name": "stderr",
     "output_type": "stream",
     "text": [
      "100%|██████████| 4.54k/4.54k [00:00<00:00, 13.6MB/s]"
     ]
    },
    {
     "name": "stdout",
     "output_type": "stream",
     "text": [
      "Extracting ./data/MNIST/raw/t10k-labels-idx1-ubyte.gz to ./data/MNIST/raw\n",
      "\n",
      "Dataset saved to disk.\n"
     ]
    },
    {
     "name": "stderr",
     "output_type": "stream",
     "text": [
      "\n"
     ]
    }
   ],
   "source": [
    "import torch\n",
    "from torchvision import datasets, transforms\n",
    "import torch.nn.functional as F\n",
    "import os\n",
    "\n",
    "class FFTTransform:\n",
    "    def __call__(self, img):\n",
    "        img_tensor = transforms.functional.to_tensor(img)\n",
    "        padded_img = F.pad(img_tensor, (0, 6, 0, 6))\n",
    "        fft_result = torch.fft.fft2(padded_img)\n",
    "        fft_magnitude = torch.abs(fft_result)\n",
    "        fft_magnitude = fft_magnitude / fft_magnitude.max()\n",
    "        return fft_magnitude\n",
    "\n",
    "transform = transforms.Compose([\n",
    "    FFTTransform(),\n",
    "])\n",
    "\n",
    "trainset = datasets.MNIST(root='./data', train=True, download=True, transform=transform)\n",
    "testset = datasets.MNIST(root='./data', train=False, download=True, transform=transform)\n",
    "\n",
    "train_images = trainset.data.unsqueeze(1)\n",
    "test_images = testset.data.unsqueeze(1)\n",
    "\n",
    "torch.save({\n",
    "    'train_images': train_images,\n",
    "    'train_labels': trainset.targets,\n",
    "    'test_images': test_images,\n",
    "    'test_labels': testset.targets,\n",
    "}, './dataset/transformed_mnist.pt')\n",
    "\n",
    "print(\"Dataset saved to disk.\")\n"
   ]
  },
  {
   "cell_type": "markdown",
   "metadata": {},
   "source": [
    "CIFR10"
   ]
  },
  {
   "cell_type": "code",
   "execution_count": 2,
   "metadata": {},
   "outputs": [
    {
     "name": "stdout",
     "output_type": "stream",
     "text": [
      "Downloading https://www.cs.toronto.edu/~kriz/cifar-10-python.tar.gz to ./data/cifar-10-python.tar.gz\n"
     ]
    },
    {
     "name": "stderr",
     "output_type": "stream",
     "text": [
      "100%|██████████| 170M/170M [00:36<00:00, 4.64MB/s] \n"
     ]
    },
    {
     "name": "stdout",
     "output_type": "stream",
     "text": [
      "Extracting ./data/cifar-10-python.tar.gz to ./data\n",
      "Files already downloaded and verified\n",
      "Dataset saved to disk.\n"
     ]
    }
   ],
   "source": [
    "import torch\n",
    "from torchvision import datasets, transforms\n",
    "import torch.nn.functional as F\n",
    "import os\n",
    "\n",
    "class FFTTransform:\n",
    "    def __call__(self, img):\n",
    "        img_tensor = transforms.functional.to_tensor(img)\n",
    "        padded_img = F.pad(img_tensor, (0, 6, 0, 6))\n",
    "        fft_result = torch.fft.fft2(padded_img)\n",
    "        fft_magnitude = torch.abs(fft_result)\n",
    "        fft_magnitude = fft_magnitude / fft_magnitude.max()\n",
    "        return fft_magnitude\n",
    "\n",
    "transform = transforms.Compose([\n",
    "    FFTTransform(),\n",
    "])\n",
    "\n",
    "trainset = datasets.CIFAR10(root='./data', train=True, download=True, transform=transform)\n",
    "testset = datasets.CIFAR10(root='./data', train=False, download=True, transform=transform)\n",
    "\n",
    "train_images = torch.stack([img for img, _ in trainset])\n",
    "test_images = torch.stack([img for img, _ in testset])\n",
    "\n",
    "torch.save({\n",
    "    'train_images': train_images,\n",
    "    'train_labels': torch.tensor(trainset.targets),\n",
    "    'test_images': test_images,\n",
    "    'test_labels': torch.tensor(testset.targets),\n",
    "}, './dataset/transformed_cifar10_RGB.pt')\n",
    "\n",
    "print(\"Dataset saved to disk.\")"
   ]
  },
  {
   "cell_type": "code",
   "execution_count": 3,
   "metadata": {},
   "outputs": [
    {
     "name": "stdout",
     "output_type": "stream",
     "text": [
      "Files already downloaded and verified\n",
      "Files already downloaded and verified\n",
      "Dataset in formato HSV salvato su disco.\n"
     ]
    }
   ],
   "source": [
    "import torch\n",
    "from torchvision import datasets, transforms\n",
    "import torchvision.transforms.functional as TF\n",
    "import torch.nn.functional as F\n",
    "\n",
    "import os\n",
    "\n",
    "class HSVTransform:\n",
    "    def __call__(self, img):\n",
    "        img = img.convert(\"HSV\")  # Converte l'immagine in HSV\n",
    "        img_tensor = TF.to_tensor(img)  # Converte in tensore PyTorch\n",
    "        padded_img = F.pad(img_tensor, (0, 6, 0, 6))\n",
    "        fft_result = torch.fft.fft2(padded_img)\n",
    "        fft_magnitude = torch.abs(fft_result)\n",
    "        fft_magnitude = fft_magnitude / fft_magnitude.max()\n",
    "        return fft_magnitude\n",
    "\n",
    "# Definiamo la trasformazione\n",
    "transform = transforms.Compose([\n",
    "    HSVTransform(),\n",
    "])\n",
    "\n",
    "# Carichiamo il dataset con la nuova trasformazione\n",
    "trainset = datasets.CIFAR10(root='./data', train=True, download=True, transform=transform)\n",
    "testset = datasets.CIFAR10(root='./data', train=False, download=True, transform=transform)\n",
    "\n",
    "# Convertiamo le immagini in tensori\n",
    "train_images = torch.stack([img for img, _ in trainset])\n",
    "test_images = torch.stack([img for img, _ in testset])\n",
    "\n",
    "# Salviamo il dataset trasformato\n",
    "torch.save({\n",
    "    'train_images': train_images,\n",
    "    'train_labels': torch.tensor(trainset.targets),\n",
    "    'test_images': test_images,\n",
    "    'test_labels': torch.tensor(testset.targets),\n",
    "}, './dataset/transformed_cifar10_HSV.pt')\n",
    "\n",
    "print(\"Dataset in formato HSV salvato su disco.\")\n"
   ]
  },
  {
   "cell_type": "code",
   "execution_count": 4,
   "metadata": {},
   "outputs": [
    {
     "name": "stdout",
     "output_type": "stream",
     "text": [
      "Files already downloaded and verified\n",
      "Files already downloaded and verified\n",
      "Dataset in formato HSV salvato su disco.\n"
     ]
    }
   ],
   "source": [
    "import torch\n",
    "from torchvision import datasets, transforms\n",
    "import torchvision.transforms.functional as TF\n",
    "import torch.nn.functional as F\n",
    "\n",
    "import os\n",
    "\n",
    "class HSVTransform:\n",
    "    def __call__(self, img):\n",
    "        img = img.convert(\"HSV\")  # Converte l'immagine in HSV\n",
    "        img_tensor = TF.to_tensor(img)  # Converte in tensore PyTorch\n",
    "        return img_tensor\n",
    "\n",
    "# Definiamo la trasformazione\n",
    "transform = transforms.Compose([\n",
    "    HSVTransform(),\n",
    "])\n",
    "\n",
    "# Carichiamo il dataset con la nuova trasformazione\n",
    "trainset = datasets.CIFAR10(root='./data', train=True, download=True, transform=transform)\n",
    "testset = datasets.CIFAR10(root='./data', train=False, download=True, transform=transform)\n",
    "\n",
    "# Convertiamo le immagini in tensori\n",
    "train_images = torch.stack([img for img, _ in trainset])\n",
    "test_images = torch.stack([img for img, _ in testset])\n",
    "\n",
    "# Salviamo il dataset trasformato\n",
    "torch.save({\n",
    "    'train_images': train_images,\n",
    "    'train_labels': torch.tensor(trainset.targets),\n",
    "    'test_images': test_images,\n",
    "    'test_labels': torch.tensor(testset.targets),\n",
    "}, './dataset/cifar10_HSV.pt')\n",
    "\n",
    "print(\"Dataset in formato HSV salvato su disco.\")"
   ]
  },
  {
   "cell_type": "code",
   "execution_count": 1,
   "metadata": {},
   "outputs": [
    {
     "name": "stdout",
     "output_type": "stream",
     "text": [
      "Files already downloaded and verified\n",
      "Files already downloaded and verified\n",
      "Dataset in formato HSV salvato su disco.\n"
     ]
    }
   ],
   "source": [
    "import torch\n",
    "from torchvision import datasets, transforms\n",
    "import torchvision.transforms.functional as TF\n",
    "import torch.nn.functional as F\n",
    "\n",
    "import os\n",
    "\n",
    "\n",
    "# Definiamo la trasformazione\n",
    "transform = transforms.Compose([\n",
    "    transforms.ToTensor(),\n",
    "])\n",
    "\n",
    "# Carichiamo il dataset con la nuova trasformazione\n",
    "trainset = datasets.CIFAR10(root='./data', train=True, download=True, transform=transform)\n",
    "testset = datasets.CIFAR10(root='./data', train=False, download=True, transform=transform)\n",
    "\n",
    "# Convertiamo le immagini in tensori\n",
    "train_images = torch.stack([img for img, _ in trainset])\n",
    "test_images = torch.stack([img for img, _ in testset])\n",
    "\n",
    "# Salviamo il dataset trasformato\n",
    "torch.save({\n",
    "    'train_images': train_images,\n",
    "    'train_labels': torch.tensor(trainset.targets),\n",
    "    'test_images': test_images,\n",
    "    'test_labels': torch.tensor(testset.targets),\n",
    "}, './dataset/cifar10_RGB.pt')\n",
    "\n",
    "print(\"Dataset in formato HSV salvato su disco.\")"
   ]
  }
 ],
 "metadata": {
  "kernelspec": {
   "display_name": "FML",
   "language": "python",
   "name": "python3"
  },
  "language_info": {
   "codemirror_mode": {
    "name": "ipython",
    "version": 3
   },
   "file_extension": ".py",
   "mimetype": "text/x-python",
   "name": "python",
   "nbconvert_exporter": "python",
   "pygments_lexer": "ipython3",
   "version": "3.12.5"
  }
 },
 "nbformat": 4,
 "nbformat_minor": 2
}
