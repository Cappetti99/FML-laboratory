{
 "cells": [
  {
   "cell_type": "code",
   "execution_count": 1,
   "metadata": {},
   "outputs": [
    {
     "name": "stdout",
     "output_type": "stream",
     "text": [
      "Dataset saved to disk.\n"
     ]
    }
   ],
   "source": [
    "import torch\n",
    "from torchvision import datasets, transforms\n",
    "import torch.nn.functional as F\n",
    "import os\n",
    "\n",
    "class FFTTransform:\n",
    "    def __call__(self, img):\n",
    "        img_tensor = transforms.functional.to_tensor(img)\n",
    "        padded_img = F.pad(img_tensor, (0, 4, 0, 4))\n",
    "        fft_result = torch.fft.fft2(padded_img)\n",
    "        fft_magnitude = torch.abs(fft_result)\n",
    "        fft_magnitude = fft_magnitude / fft_magnitude.max()\n",
    "        return fft_magnitude\n",
    "\n",
    "transform = transforms.Compose([\n",
    "    FFTTransform(),\n",
    "])\n",
    "\n",
    "trainset = datasets.MNIST(root='./data', train=True, download=True, transform=transform)\n",
    "testset = datasets.MNIST(root='./data', train=False, download=True, transform=transform)\n",
    "\n",
    "train_images = trainset.data.unsqueeze(1)\n",
    "test_images = testset.data.unsqueeze(1)\n",
    "\n",
    "torch.save({\n",
    "    'train_images': train_images,\n",
    "    'train_labels': trainset.targets,\n",
    "    'test_images': test_images,\n",
    "    'test_labels': testset.targets,\n",
    "}, './transformed_mnist.pt')\n",
    "\n",
    "print(\"Dataset saved to disk.\")\n"
   ]
  },
  {
   "cell_type": "markdown",
   "metadata": {},
   "source": [
    "CIFR10"
   ]
  },
  {
   "cell_type": "code",
   "execution_count": 2,
   "metadata": {},
   "outputs": [
    {
     "name": "stdout",
     "output_type": "stream",
     "text": [
      "Files already downloaded and verified\n",
      "Files already downloaded and verified\n",
      "Dataset saved to disk.\n"
     ]
    }
   ],
   "source": [
    "import torch\n",
    "from torchvision import datasets, transforms\n",
    "import torch.nn.functional as F\n",
    "import os\n",
    "\n",
    "class FFTTransform:\n",
    "    def __call__(self, img):\n",
    "        img_tensor = transforms.functional.to_tensor(img)\n",
    "        padded_img = F.pad(img_tensor, (0, 2, 0, 2))\n",
    "        fft_result = torch.fft.fft2(padded_img)\n",
    "        fft_magnitude = torch.abs(fft_result)\n",
    "        fft_magnitude = fft_magnitude / fft_magnitude.max()\n",
    "        return fft_magnitude\n",
    "\n",
    "transform = transforms.Compose([\n",
    "    FFTTransform(),\n",
    "])\n",
    "\n",
    "trainset = datasets.CIFAR10(root='./data', train=True, download=True, transform=transform)\n",
    "testset = datasets.CIFAR10(root='./data', train=False, download=True, transform=transform)\n",
    "\n",
    "train_images = torch.stack([img for img, _ in trainset])\n",
    "test_images = torch.stack([img for img, _ in testset])\n",
    "\n",
    "torch.save({\n",
    "    'train_images': train_images,\n",
    "    'train_labels': torch.tensor(trainset.targets),\n",
    "    'test_images': test_images,\n",
    "    'test_labels': torch.tensor(testset.targets),\n",
    "}, './transformed_cifar10.pt')\n",
    "\n",
    "print(\"Dataset saved to disk.\")"
   ]
  },
  {
   "cell_type": "code",
   "execution_count": 8,
   "metadata": {},
   "outputs": [
    {
     "name": "stdout",
     "output_type": "stream",
     "text": [
      "Files already downloaded and verified\n",
      "Files already downloaded and verified\n"
     ]
    },
    {
     "ename": "KeyboardInterrupt",
     "evalue": "",
     "output_type": "error",
     "traceback": [
      "\u001b[0;31m---------------------------------------------------------------------------\u001b[0m",
      "\u001b[0;31mKeyboardInterrupt\u001b[0m                         Traceback (most recent call last)",
      "Cell \u001b[0;32mIn[8], line 28\u001b[0m\n\u001b[1;32m     25\u001b[0m testset \u001b[38;5;241m=\u001b[39m datasets\u001b[38;5;241m.\u001b[39mCIFAR10(root\u001b[38;5;241m=\u001b[39m\u001b[38;5;124m'\u001b[39m\u001b[38;5;124m./data\u001b[39m\u001b[38;5;124m'\u001b[39m, train\u001b[38;5;241m=\u001b[39m\u001b[38;5;28;01mFalse\u001b[39;00m, download\u001b[38;5;241m=\u001b[39m\u001b[38;5;28;01mTrue\u001b[39;00m, transform\u001b[38;5;241m=\u001b[39mtransform)\n\u001b[1;32m     27\u001b[0m \u001b[38;5;66;03m# Convertiamo le immagini in tensori\u001b[39;00m\n\u001b[0;32m---> 28\u001b[0m train_images \u001b[38;5;241m=\u001b[39m torch\u001b[38;5;241m.\u001b[39mstack([img \u001b[38;5;28;01mfor\u001b[39;00m img, _ \u001b[38;5;129;01min\u001b[39;00m trainset])\n\u001b[1;32m     29\u001b[0m test_images \u001b[38;5;241m=\u001b[39m torch\u001b[38;5;241m.\u001b[39mstack([img \u001b[38;5;28;01mfor\u001b[39;00m img, _ \u001b[38;5;129;01min\u001b[39;00m testset])\n\u001b[1;32m     31\u001b[0m \u001b[38;5;66;03m# Salviamo il dataset trasformato\u001b[39;00m\n",
      "File \u001b[0;32m~/miniconda3/envs/FML/lib/python3.12/site-packages/torchvision/datasets/cifar.py:119\u001b[0m, in \u001b[0;36mCIFAR10.__getitem__\u001b[0;34m(self, index)\u001b[0m\n\u001b[1;32m    116\u001b[0m img \u001b[38;5;241m=\u001b[39m Image\u001b[38;5;241m.\u001b[39mfromarray(img)\n\u001b[1;32m    118\u001b[0m \u001b[38;5;28;01mif\u001b[39;00m \u001b[38;5;28mself\u001b[39m\u001b[38;5;241m.\u001b[39mtransform \u001b[38;5;129;01mis\u001b[39;00m \u001b[38;5;129;01mnot\u001b[39;00m \u001b[38;5;28;01mNone\u001b[39;00m:\n\u001b[0;32m--> 119\u001b[0m     img \u001b[38;5;241m=\u001b[39m \u001b[38;5;28mself\u001b[39m\u001b[38;5;241m.\u001b[39mtransform(img)\n\u001b[1;32m    121\u001b[0m \u001b[38;5;28;01mif\u001b[39;00m \u001b[38;5;28mself\u001b[39m\u001b[38;5;241m.\u001b[39mtarget_transform \u001b[38;5;129;01mis\u001b[39;00m \u001b[38;5;129;01mnot\u001b[39;00m \u001b[38;5;28;01mNone\u001b[39;00m:\n\u001b[1;32m    122\u001b[0m     target \u001b[38;5;241m=\u001b[39m \u001b[38;5;28mself\u001b[39m\u001b[38;5;241m.\u001b[39mtarget_transform(target)\n",
      "File \u001b[0;32m~/miniconda3/envs/FML/lib/python3.12/site-packages/torchvision/transforms/transforms.py:93\u001b[0m, in \u001b[0;36mCompose.__call__\u001b[0;34m(self, img)\u001b[0m\n\u001b[1;32m     90\u001b[0m         _log_api_usage_once(\u001b[38;5;28mself\u001b[39m)\n\u001b[1;32m     91\u001b[0m     \u001b[38;5;28mself\u001b[39m\u001b[38;5;241m.\u001b[39mtransforms \u001b[38;5;241m=\u001b[39m transforms\n\u001b[0;32m---> 93\u001b[0m \u001b[38;5;28;01mdef\u001b[39;00m \u001b[38;5;21m__call__\u001b[39m(\u001b[38;5;28mself\u001b[39m, img):\n\u001b[1;32m     94\u001b[0m     \u001b[38;5;28;01mfor\u001b[39;00m t \u001b[38;5;129;01min\u001b[39;00m \u001b[38;5;28mself\u001b[39m\u001b[38;5;241m.\u001b[39mtransforms:\n\u001b[1;32m     95\u001b[0m         img \u001b[38;5;241m=\u001b[39m t(img)\n",
      "\u001b[0;31mKeyboardInterrupt\u001b[0m: "
     ]
    }
   ],
   "source": [
    "import torch\n",
    "from torchvision import datasets, transforms\n",
    "import torchvision.transforms.functional as TF\n",
    "import torch.nn.functional as F\n",
    "\n",
    "import os\n",
    "\n",
    "class HSVTransform:\n",
    "    def __call__(self, img):\n",
    "        img = img.convert(\"HSV\")  # Converte l'immagine in HSV\n",
    "        img_tensor = TF.to_tensor(img)  # Converte in tensore PyTorch\n",
    "        padded_img = F.pad(img_tensor, (0, 2, 0, 2))\n",
    "        fft_result = torch.fft.fft2(padded_img)\n",
    "        fft_magnitude = torch.abs(fft_result)\n",
    "        fft_magnitude = fft_magnitude / fft_magnitude.max()\n",
    "        return fft_magnitude\n",
    "\n",
    "# Definiamo la trasformazione\n",
    "transform = transforms.Compose([\n",
    "    HSVTransform(),\n",
    "])\n",
    "\n",
    "# Carichiamo il dataset con la nuova trasformazione\n",
    "trainset = datasets.CIFAR10(root='./data', train=True, download=True, transform=transform)\n",
    "testset = datasets.CIFAR10(root='./data', train=False, download=True, transform=transform)\n",
    "\n",
    "# Convertiamo le immagini in tensori\n",
    "train_images = torch.stack([img for img, _ in trainset])\n",
    "test_images = torch.stack([img for img, _ in testset])\n",
    "\n",
    "# Salviamo il dataset trasformato\n",
    "torch.save({\n",
    "    'train_images': train_images,\n",
    "    'train_labels': torch.tensor(trainset.targets),\n",
    "    'test_images': test_images,\n",
    "    'test_labels': torch.tensor(testset.targets),\n",
    "}, './transformed_cifar10_hsv.pt')\n",
    "\n",
    "print(\"Dataset in formato HSV salvato su disco.\")\n"
   ]
  }
 ],
 "metadata": {
  "kernelspec": {
   "display_name": "FML",
   "language": "python",
   "name": "python3"
  },
  "language_info": {
   "codemirror_mode": {
    "name": "ipython",
    "version": 3
   },
   "file_extension": ".py",
   "mimetype": "text/x-python",
   "name": "python",
   "nbconvert_exporter": "python",
   "pygments_lexer": "ipython3",
   "version": "3.12.5"
  }
 },
 "nbformat": 4,
 "nbformat_minor": 2
}
